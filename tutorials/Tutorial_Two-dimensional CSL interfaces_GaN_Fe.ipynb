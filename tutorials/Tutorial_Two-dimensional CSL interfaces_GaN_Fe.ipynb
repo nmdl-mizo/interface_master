{
 "cells": [
  {
   "cell_type": "markdown",
   "metadata": {},
   "source": [
    "# GaN/Fe"
   ]
  },
  {
   "cell_type": "code",
   "execution_count": 1,
   "metadata": {},
   "outputs": [],
   "source": [
    "from interfacemaster.cellcalc import get_primitive_hkl, get_pri_vec_inplane, get_normal_index, get_normal_from_MI, rot\n",
    "from interfacemaster.interface_generator import core, convert_vector_index, get_disorientation\n",
    "from numpy import array, dot, round, cross, eye\n",
    "from numpy.linalg import inv, det, norm"
   ]
  },
  {
   "cell_type": "code",
   "execution_count": 2,
   "metadata": {},
   "outputs": [],
   "source": [
    "from pymatgen.core.structure import Structure"
   ]
  },
  {
   "cell_type": "code",
   "execution_count": 10,
   "metadata": {},
   "outputs": [
    {
     "name": "stdout",
     "output_type": "stream",
     "text": [
      "Warning!, this programme will rewrite the POSCAR file in this dir!\n"
     ]
    }
   ],
   "source": [
    "my_interface = core('cif_files/GaN_mp-804_conventional_standard.cif',\\\n",
    "                    'cif_files/Fe_mp-13_conventional_standard.cif')"
   ]
  },
  {
   "cell_type": "code",
   "execution_count": 11,
   "metadata": {},
   "outputs": [
    {
     "data": {
      "text/plain": [
       "array([[ 3.21633760e-01,  5.00000000e-01,  8.04084401e-01],\n",
       "       [-1.85695338e-01,  8.66025404e-01, -4.64238345e-01],\n",
       "       [-9.28476691e-01,  4.28707594e-17,  3.71390676e-01]])"
      ]
     },
     "execution_count": 11,
     "metadata": {},
     "output_type": "execute_result"
    }
   ],
   "source": [
    "#target disorientation\n",
    "R = get_disorientation(L1 = my_interface.conv_lattice_1, L2 = my_interface.conv_lattice_2, \\\n",
    "                       v1 = [-1,-1,0], hkl1 = [1, -1, 0], \\\n",
    "                       v2 = [0,-1,0], hkl2 = [2, 0, 5])\n",
    "R"
   ]
  },
  {
   "cell_type": "code",
   "execution_count": 12,
   "metadata": {},
   "outputs": [],
   "source": [
    "#combining two specified surfaces\n",
    "hkl_1 = get_primitive_hkl([1, -1, 0], my_interface.conv_lattice_1, my_interface.lattice_1)\n",
    "hkl_2 = get_primitive_hkl([2, 0, 5], my_interface.conv_lattice_2, my_interface.lattice_2)"
   ]
  },
  {
   "cell_type": "markdown",
   "metadata": {},
   "source": [
    "## Searching two_dimensional CSL"
   ]
  },
  {
   "cell_type": "code",
   "execution_count": 13,
   "metadata": {
    "scrolled": false
   },
   "outputs": [
    {
     "name": "stdout",
     "output_type": "stream",
     "text": [
      "Congrates, we found an appx CSL!\n",
      "\n",
      "U1 = \n",
      "[[4 0]\n",
      " [0 0]\n",
      " [0 3]]; sigma_1 = 12\n",
      "\n",
      "U2 = \n",
      "[[-5  5]\n",
      " [ 0  7]\n",
      " [-5  2]]; sigma_2 = 52\n",
      "\n",
      "D = \n",
      "[[ 0.97649518 -0.04071154  0.        ]\n",
      " [-0.04071154  0.92948554  0.        ]\n",
      " [-0.         -0.          1.02783677]]\n",
      "\n",
      "axis = [14.59533203 -8.42661887  0.        ] ; theta = 0.0\n",
      "\n"
     ]
    }
   ],
   "source": [
    "my_interface.parse_limit(du = 1e-1, S  = 1e-1, sgm1=200, sgm2=200, dd = 1e-1)\n",
    "\n",
    "#Do searching!\n",
    "my_interface.search_one_position_2D(hkl_1, hkl_2, theta_range = 1, \\\n",
    "                                    dtheta = 0.01, pre_R=R, pre_dt= True, integer_tol = 1e-4)"
   ]
  },
  {
   "cell_type": "markdown",
   "metadata": {},
   "source": [
    "## Get bicrystal"
   ]
  },
  {
   "cell_type": "code",
   "execution_count": 14,
   "metadata": {},
   "outputs": [
    {
     "name": "stdout",
     "output_type": "stream",
     "text": [
      "cell 1:\n",
      "[[-1  4  0]\n",
      " [-2  0  0]\n",
      " [ 0  0  3]]\n",
      "cell 2:\n",
      "[[ 1 -5  5]\n",
      " [-1  0  7]\n",
      " [-2 -5  2]]\n"
     ]
    }
   ],
   "source": [
    "my_interface.compute_bicrystal_two_D(hkl_1 = hkl_1, hkl_2=hkl_2, normal_ortho = True, lim = 50, tol_ortho = 1e-2, tol_integer=1e-3)"
   ]
  },
  {
   "cell_type": "code",
   "execution_count": 15,
   "metadata": {},
   "outputs": [],
   "source": [
    "my_interface.get_bicrystal(two_D = True, xyz_1 = [1,1,1], xyz_2 = [1,1,1])"
   ]
  },
  {
   "cell_type": "markdown",
   "metadata": {},
   "source": [
    "Please check the POSCAR file"
   ]
  }
 ],
 "metadata": {
  "kernelspec": {
   "display_name": "Python 3",
   "language": "python",
   "name": "python3"
  },
  "language_info": {
   "codemirror_mode": {
    "name": "ipython",
    "version": 3
   },
   "file_extension": ".py",
   "mimetype": "text/x-python",
   "name": "python",
   "nbconvert_exporter": "python",
   "pygments_lexer": "ipython3",
   "version": "3.8.3"
  }
 },
 "nbformat": 4,
 "nbformat_minor": 4
}
