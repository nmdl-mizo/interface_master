{
 "cells": [
  {
   "cell_type": "markdown",
   "metadata": {},
   "source": [
    "# GaN/Fe"
   ]
  },
  {
   "cell_type": "markdown",
   "metadata": {},
   "source": [
    "## import & prepare"
   ]
  },
  {
   "cell_type": "code",
   "execution_count": 1,
   "metadata": {},
   "outputs": [
    {
     "name": "stdout",
     "output_type": "stream",
     "text": [
      "\u001b[33mDEPRECATION: Loading egg at /opt/anaconda3/envs/general/lib/python3.11/site-packages/cnidcal-0.0.1-py3.11.egg is deprecated. pip 24.3 will enforce this behaviour change. A possible replacement is to use pip for package installation.. Discussion can be found at https://github.com/pypa/pip/issues/12330\u001b[0m\u001b[33m\n",
      "\u001b[0m\u001b[33mDEPRECATION: Loading egg at /opt/anaconda3/envs/general/lib/python3.11/site-packages/interfacemaster-1.1.1-py3.11.egg is deprecated. pip 24.3 will enforce this behaviour change. A possible replacement is to use pip for package installation.. Discussion can be found at https://github.com/pypa/pip/issues/12330\u001b[0m\u001b[33m\n",
      "\u001b[0mCollecting git+https://github.com/nmdl-mizo/interface_master.git@develop\n",
      "  Cloning https://github.com/nmdl-mizo/interface_master.git (to revision develop) to /private/var/folders/km/tznxn_d162bgzpqpzp9wcjn00000gn/T/pip-req-build-jinisnj8\n",
      "  Running command git clone --filter=blob:none --quiet https://github.com/nmdl-mizo/interface_master.git /private/var/folders/km/tznxn_d162bgzpqpzp9wcjn00000gn/T/pip-req-build-jinisnj8\n",
      "  Resolved https://github.com/nmdl-mizo/interface_master.git to commit 42b23d58f66b5e12d3e2cab27659b6a75a9dee1a\n",
      "  Preparing metadata (setup.py) ... \u001b[?25ldone\n",
      "\u001b[?25hRequirement already satisfied: pymatgen in /opt/anaconda3/envs/general/lib/python3.11/site-packages (from interfacemaster==1.1.1) (2024.3.1)\n",
      "Requirement already satisfied: matplotlib in /opt/anaconda3/envs/general/lib/python3.11/site-packages (from interfacemaster==1.1.1) (3.8.3)\n",
      "Requirement already satisfied: gb_code in /opt/anaconda3/envs/general/lib/python3.11/site-packages (from interfacemaster==1.1.1) (1.0.0)\n",
      "Requirement already satisfied: numpy>=1.14.0 in /opt/anaconda3/envs/general/lib/python3.11/site-packages (from gb_code->interfacemaster==1.1.1) (1.26.4)\n",
      "Requirement already satisfied: contourpy>=1.0.1 in /opt/anaconda3/envs/general/lib/python3.11/site-packages (from matplotlib->interfacemaster==1.1.1) (1.2.0)\n",
      "Requirement already satisfied: cycler>=0.10 in /opt/anaconda3/envs/general/lib/python3.11/site-packages (from matplotlib->interfacemaster==1.1.1) (0.12.1)\n",
      "Requirement already satisfied: fonttools>=4.22.0 in /opt/anaconda3/envs/general/lib/python3.11/site-packages (from matplotlib->interfacemaster==1.1.1) (4.49.0)\n",
      "Requirement already satisfied: kiwisolver>=1.3.1 in /opt/anaconda3/envs/general/lib/python3.11/site-packages (from matplotlib->interfacemaster==1.1.1) (1.4.5)\n",
      "Requirement already satisfied: packaging>=20.0 in /opt/anaconda3/envs/general/lib/python3.11/site-packages (from matplotlib->interfacemaster==1.1.1) (23.1)\n",
      "Requirement already satisfied: pillow>=8 in /opt/anaconda3/envs/general/lib/python3.11/site-packages (from matplotlib->interfacemaster==1.1.1) (10.2.0)\n",
      "Requirement already satisfied: pyparsing>=2.3.1 in /opt/anaconda3/envs/general/lib/python3.11/site-packages (from matplotlib->interfacemaster==1.1.1) (3.1.2)\n",
      "Requirement already satisfied: python-dateutil>=2.7 in /opt/anaconda3/envs/general/lib/python3.11/site-packages (from matplotlib->interfacemaster==1.1.1) (2.8.2)\n",
      "Requirement already satisfied: monty>=2024.2.2 in /opt/anaconda3/envs/general/lib/python3.11/site-packages (from pymatgen->interfacemaster==1.1.1) (2024.2.26)\n",
      "Requirement already satisfied: networkx>=2.2 in /opt/anaconda3/envs/general/lib/python3.11/site-packages (from pymatgen->interfacemaster==1.1.1) (3.2.1)\n",
      "Requirement already satisfied: palettable>=3.1.1 in /opt/anaconda3/envs/general/lib/python3.11/site-packages (from pymatgen->interfacemaster==1.1.1) (3.3.3)\n",
      "Requirement already satisfied: pandas in /opt/anaconda3/envs/general/lib/python3.11/site-packages (from pymatgen->interfacemaster==1.1.1) (2.2.1)\n",
      "Requirement already satisfied: plotly>=4.5.0 in /opt/anaconda3/envs/general/lib/python3.11/site-packages (from pymatgen->interfacemaster==1.1.1) (5.19.0)\n",
      "Requirement already satisfied: pybtex in /opt/anaconda3/envs/general/lib/python3.11/site-packages (from pymatgen->interfacemaster==1.1.1) (0.24.0)\n",
      "Requirement already satisfied: requests in /opt/anaconda3/envs/general/lib/python3.11/site-packages (from pymatgen->interfacemaster==1.1.1) (2.31.0)\n",
      "Requirement already satisfied: ruamel.yaml>=0.17.0 in /opt/anaconda3/envs/general/lib/python3.11/site-packages (from pymatgen->interfacemaster==1.1.1) (0.18.6)\n",
      "Requirement already satisfied: scipy>=1.5.0 in /opt/anaconda3/envs/general/lib/python3.11/site-packages (from pymatgen->interfacemaster==1.1.1) (1.12.0)\n",
      "Requirement already satisfied: spglib>=2.0.2 in /opt/anaconda3/envs/general/lib/python3.11/site-packages (from pymatgen->interfacemaster==1.1.1) (2.3.1)\n",
      "Requirement already satisfied: sympy in /opt/anaconda3/envs/general/lib/python3.11/site-packages (from pymatgen->interfacemaster==1.1.1) (1.12)\n",
      "Requirement already satisfied: tabulate in /opt/anaconda3/envs/general/lib/python3.11/site-packages (from pymatgen->interfacemaster==1.1.1) (0.9.0)\n",
      "Requirement already satisfied: tqdm in /opt/anaconda3/envs/general/lib/python3.11/site-packages (from pymatgen->interfacemaster==1.1.1) (4.66.2)\n",
      "Requirement already satisfied: uncertainties>=3.1.4 in /opt/anaconda3/envs/general/lib/python3.11/site-packages (from pymatgen->interfacemaster==1.1.1) (3.1.7)\n",
      "Requirement already satisfied: joblib in /opt/anaconda3/envs/general/lib/python3.11/site-packages (from pymatgen->interfacemaster==1.1.1) (1.3.2)\n",
      "Requirement already satisfied: tenacity>=6.2.0 in /opt/anaconda3/envs/general/lib/python3.11/site-packages (from plotly>=4.5.0->pymatgen->interfacemaster==1.1.1) (8.2.3)\n",
      "Requirement already satisfied: six>=1.5 in /opt/anaconda3/envs/general/lib/python3.11/site-packages (from python-dateutil>=2.7->matplotlib->interfacemaster==1.1.1) (1.16.0)\n",
      "Requirement already satisfied: ruamel.yaml.clib>=0.2.7 in /opt/anaconda3/envs/general/lib/python3.11/site-packages (from ruamel.yaml>=0.17.0->pymatgen->interfacemaster==1.1.1) (0.2.8)\n",
      "Requirement already satisfied: future in /opt/anaconda3/envs/general/lib/python3.11/site-packages (from uncertainties>=3.1.4->pymatgen->interfacemaster==1.1.1) (1.0.0)\n",
      "Requirement already satisfied: pytz>=2020.1 in /opt/anaconda3/envs/general/lib/python3.11/site-packages (from pandas->pymatgen->interfacemaster==1.1.1) (2023.3.post1)\n",
      "Requirement already satisfied: tzdata>=2022.7 in /opt/anaconda3/envs/general/lib/python3.11/site-packages (from pandas->pymatgen->interfacemaster==1.1.1) (2024.1)\n",
      "Requirement already satisfied: PyYAML>=3.01 in /opt/anaconda3/envs/general/lib/python3.11/site-packages (from pybtex->pymatgen->interfacemaster==1.1.1) (6.0.1)\n",
      "Requirement already satisfied: latexcodec>=1.0.4 in /opt/anaconda3/envs/general/lib/python3.11/site-packages (from pybtex->pymatgen->interfacemaster==1.1.1) (3.0.0)\n",
      "Requirement already satisfied: charset-normalizer<4,>=2 in /opt/anaconda3/envs/general/lib/python3.11/site-packages (from requests->pymatgen->interfacemaster==1.1.1) (2.0.4)\n",
      "Requirement already satisfied: idna<4,>=2.5 in /opt/anaconda3/envs/general/lib/python3.11/site-packages (from requests->pymatgen->interfacemaster==1.1.1) (3.4)\n",
      "Requirement already satisfied: urllib3<3,>=1.21.1 in /opt/anaconda3/envs/general/lib/python3.11/site-packages (from requests->pymatgen->interfacemaster==1.1.1) (2.1.0)\n",
      "Requirement already satisfied: certifi>=2017.4.17 in /opt/anaconda3/envs/general/lib/python3.11/site-packages (from requests->pymatgen->interfacemaster==1.1.1) (2024.2.2)\n",
      "Requirement already satisfied: mpmath>=0.19 in /opt/anaconda3/envs/general/lib/python3.11/site-packages (from sympy->pymatgen->interfacemaster==1.1.1) (1.3.0)\n",
      "  % Total    % Received % Xferd  Average Speed   Time    Time     Time  Current\n",
      "                                 Dload  Upload   Total   Spent    Left  Speed\n",
      "  0     0    0     0    0     0      0      0 --:--:-- --:--:-- --:--:--     0\n",
      "curl: (7) Failed to connect to raw.githubusercontent.com port 443 after 61 ms: Couldn't connect to server\n",
      "  % Total    % Received % Xferd  Average Speed   Time    Time     Time  Current\n",
      "                                 Dload  Upload   Total   Spent    Left  Speed\n",
      "  0     0    0     0    0     0      0      0 --:--:-- --:--:-- --:--:--     0\n",
      "curl: (7) Failed to connect to raw.githubusercontent.com port 443 after 3 ms: Couldn't connect to server\n"
     ]
    }
   ],
   "source": [
    "!pip install git+https://github.com/nmdl-mizo/interface_master.git@develop\n",
    "!mkdir -p cif_files\n",
    "!curl https://raw.githubusercontent.com/nmdl-mizo/interface_master/develop/test_files/cif_files/GaN_mp-804_conventional_standard.cif -o 'cif_files/GaN_mp-804_conventional_standard.cif'\n",
    "!curl https://raw.githubusercontent.com/nmdl-mizo/interface_master/develop/test_files/cif_files/Fe_mp-13_conventional_standard.cif -o 'cif_files/Fe_mp-13_conventional_standard.cif'"
   ]
  },
  {
   "cell_type": "code",
   "execution_count": 1,
   "metadata": {},
   "outputs": [],
   "source": [
    "from interfacemaster.cellcalc import get_primitive_hkl, get_pri_vec_inplane, get_normal_index, get_normal_from_MI, rot\n",
    "from interfacemaster.interface_generator import core, convert_vector_index, get_disorientation\n",
    "from numpy import array, dot, round, cross, eye\n",
    "from numpy.linalg import inv, det, norm\n",
    "from pymatgen.core.structure import Structure"
   ]
  },
  {
   "attachments": {},
   "cell_type": "markdown",
   "metadata": {},
   "source": [
    "## Define an interface core class"
   ]
  },
  {
   "cell_type": "code",
   "execution_count": 2,
   "metadata": {},
   "outputs": [
    {
     "name": "stderr",
     "output_type": "stream",
     "text": [
      "/opt/anaconda3/envs/general/lib/python3.11/site-packages/pymatgen/io/cif.py:1229: UserWarning: Issues encountered while parsing CIF: 8 fractional coordinates rounded to ideal values to avoid issues with finite precision.\n",
      "  warnings.warn(\"Issues encountered while parsing CIF: \" + \"\\n\".join(self.warnings))\n"
     ]
    }
   ],
   "source": [
    "stct_1, stct_2 = list(map(lambda x:Structure.from_file(x), ['cif_files/GaN_mp-804_conventional_standard.cif', \\\n",
    "                                                      'cif_files/Fe_mp-13_conventional_standard.cif']))"
   ]
  },
  {
   "cell_type": "code",
   "execution_count": 3,
   "metadata": {},
   "outputs": [
    {
     "name": "stdout",
     "output_type": "stream",
     "text": [
      "Warning!, this programme will rewrite the POSCAR file in this dir!\n"
     ]
    }
   ],
   "source": [
    "my_interface = core(stct_1, stct_2)"
   ]
  },
  {
   "cell_type": "code",
   "execution_count": 4,
   "metadata": {},
   "outputs": [
    {
     "data": {
      "text/plain": [
       "array([[ 3.21633760e-01,  5.00000000e-01,  8.04084401e-01],\n",
       "       [-1.85695338e-01,  8.66025404e-01, -4.64238345e-01],\n",
       "       [-9.28476691e-01,  4.28707594e-17,  3.71390676e-01]])"
      ]
     },
     "execution_count": 4,
     "metadata": {},
     "output_type": "execute_result"
    }
   ],
   "source": [
    "#target disorientation\n",
    "R = get_disorientation(L1 = my_interface.conv_lattice_1, L2 = my_interface.conv_lattice_2, \\\n",
    "                       v1 = [-1,-1,0], hkl1 = [1, -1, 0], \\\n",
    "                       v2 = [0,-1,0], hkl2 = [2, 0, 5])\n",
    "R"
   ]
  },
  {
   "cell_type": "code",
   "execution_count": 5,
   "metadata": {},
   "outputs": [],
   "source": [
    "#combining two specified surfaces\n",
    "hkl_1 = get_primitive_hkl([1, -1, 0], my_interface.conv_lattice_1, my_interface.lattice_1)\n",
    "hkl_2 = get_primitive_hkl([2, 0, 5], my_interface.conv_lattice_2, my_interface.lattice_2)"
   ]
  },
  {
   "cell_type": "markdown",
   "metadata": {},
   "source": [
    "## Searching two_dimensional CSL"
   ]
  },
  {
   "cell_type": "code",
   "execution_count": 6,
   "metadata": {},
   "outputs": [
    {
     "name": "stdout",
     "output_type": "stream",
     "text": [
      "Congrates, we found an appx CSL!\n",
      "\n",
      "U1 = \n",
      "[[-4  0]\n",
      " [-4  0]\n",
      " [ 0 -3]]; sigma_1 = 17\n",
      "\n",
      "U2 = \n",
      "[[-5  5]\n",
      " [ 0  7]\n",
      " [-5  2]]; sigma_2 = 52\n",
      "\n",
      "D = \n",
      "[[ 0.97649518 -0.04071154  0.        ]\n",
      " [-0.04071154  0.92948554  0.        ]\n",
      " [-0.         -0.          1.02783677]]\n",
      "\n",
      "axis = [14.59533203 -8.42661887  0.        ] ; theta = 0.0\n",
      "\n"
     ]
    }
   ],
   "source": [
    "my_interface.parse_limit(du = 1e-1, S  = 1e-1, sgm1=200, sgm2=200, dd = 1e-1)\n",
    "\n",
    "#Do searching!\n",
    "my_interface.search_one_position_2D(hkl_1, hkl_2, theta_range = 1, \\\n",
    "                                    dtheta = 0.01, pre_R=R, pre_dt= True, integer_tol = 1e-4)"
   ]
  },
  {
   "cell_type": "markdown",
   "metadata": {},
   "source": [
    "## Get bicrystal"
   ]
  },
  {
   "cell_type": "code",
   "execution_count": 7,
   "metadata": {},
   "outputs": [
    {
     "name": "stdout",
     "output_type": "stream",
     "text": [
      "cell 1:\n",
      "[[-1 -4  0]\n",
      " [ 1 -4  0]\n",
      " [ 0  0  3]]\n",
      "cell 2:\n",
      "[[-1 -5 -5]\n",
      " [ 1  0 -7]\n",
      " [ 2 -5 -2]]\n"
     ]
    }
   ],
   "source": [
    "my_interface.compute_bicrystal_two_D(hkl_1 = hkl_1, hkl_2=hkl_2, normal_ortho = True, lim = 50, tol_ortho = 1e-2, tol_integer=1e-3)"
   ]
  },
  {
   "cell_type": "code",
   "execution_count": 8,
   "metadata": {},
   "outputs": [],
   "source": [
    "my_interface.get_bicrystal(two_D = True, xyz_1 = [1,1,1], xyz_2 = [1,1,1])"
   ]
  },
  {
   "cell_type": "markdown",
   "metadata": {},
   "source": [
    "Please check the POSCAR file"
   ]
  }
 ],
 "metadata": {
  "kernelspec": {
   "display_name": "Python 3 (ipykernel)",
   "language": "python",
   "name": "python3"
  },
  "language_info": {
   "codemirror_mode": {
    "name": "ipython",
    "version": 3
   },
   "file_extension": ".py",
   "mimetype": "text/x-python",
   "name": "python",
   "nbconvert_exporter": "python",
   "pygments_lexer": "ipython3",
   "version": "3.11.7"
  },
  "vscode": {
   "interpreter": {
    "hash": "949777d72b0d2535278d3dc13498b2535136f6dfe0678499012e853ee9abcab1"
   }
  }
 },
 "nbformat": 4,
 "nbformat_minor": 4
}
