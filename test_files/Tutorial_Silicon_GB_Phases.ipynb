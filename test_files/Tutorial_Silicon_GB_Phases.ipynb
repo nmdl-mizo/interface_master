{
 "cells": [
  {
   "cell_type": "markdown",
   "metadata": {},
   "source": [
    "# Sampling Si GB phases"
   ]
  },
  {
   "cell_type": "code",
   "execution_count": 15,
   "metadata": {},
   "outputs": [],
   "source": [
    "import sys\n",
    "sys.path.append('../interfacemaster/')"
   ]
  },
  {
   "cell_type": "code",
   "execution_count": 16,
   "metadata": {},
   "outputs": [],
   "source": [
    "from interfacemaster.cellcalc import get_primitive_hkl\n",
    "from interfacemaster.interface_generator import core, print_near_axis, \\\n",
    "convert_vector_index, write_trans_file, write_LAMMPS, RBT_deletion_one_by_one\n",
    "from numpy import array, dot, round, var, average, ceil\n",
    "from numpy.linalg import inv, norm, det"
   ]
  },
  {
   "cell_type": "code",
   "execution_count": 17,
   "metadata": {},
   "outputs": [
    {
     "name": "stdout",
     "output_type": "stream",
     "text": [
      "Warning!, this programme will rewrite the POSCAR file in this dir!\n"
     ]
    }
   ],
   "source": [
    "my_interface = core('cif_files/Si_mp-149_conventional_standard.cif',\\\n",
    "                    'cif_files/Si_mp-149_conventional_standard.cif')"
   ]
  },
  {
   "cell_type": "markdown",
   "metadata": {},
   "source": [
    "# Remember to normalize the size of the cell according to your computed lattice parameter!"
   ]
  },
  {
   "cell_type": "code",
   "execution_count": 18,
   "metadata": {},
   "outputs": [],
   "source": [
    "factor = 5.43356/5.468728"
   ]
  },
  {
   "cell_type": "code",
   "execution_count": 19,
   "metadata": {},
   "outputs": [],
   "source": [
    "my_interface.conv_lattice_1 = my_interface.conv_lattice_1 * factor\n",
    "my_interface.conv_lattice_2 = my_interface.conv_lattice_2 * factor"
   ]
  },
  {
   "cell_type": "code",
   "execution_count": 20,
   "metadata": {},
   "outputs": [],
   "source": [
    "my_interface.lattice_1 = my_interface.lattice_1 * factor"
   ]
  },
  {
   "cell_type": "code",
   "execution_count": 21,
   "metadata": {},
   "outputs": [],
   "source": [
    "my_interface.lattice_2 = my_interface.lattice_2 * factor"
   ]
  },
  {
   "cell_type": "code",
   "execution_count": 22,
   "metadata": {},
   "outputs": [
    {
     "data": {
      "text/plain": [
       "array([-1., -1.,  1.])"
      ]
     },
     "execution_count": 22,
     "metadata": {},
     "output_type": "execute_result"
    }
   ],
   "source": [
    "axis = convert_vector_index(my_interface.conv_lattice_1, my_interface.lattice_1, [1,0,0])\n",
    "axis"
   ]
  },
  {
   "cell_type": "code",
   "execution_count": 23,
   "metadata": {},
   "outputs": [
    {
     "name": "stdout",
     "output_type": "stream",
     "text": [
      "[5.4335600e+00 0.0000000e+00 4.4408921e-16]\n",
      "Congrates, we found an appx CSL!\n",
      "\n",
      "U1 = \n",
      "[[ 1  0  1]\n",
      " [ 1  1 -2]\n",
      " [-1  1  1]]; sigma_1 = 5\n",
      "\n",
      "U2 = \n",
      "[[ 1  1  1]\n",
      " [ 1  0 -2]\n",
      " [-1  1  0]]; sigma_2 = 5\n",
      "\n",
      "D = \n",
      "[[ 1.00e+00  0.00e+00  0.00e+00]\n",
      " [ 0.00e+00  1.00e+00  1.79e-06]\n",
      " [ 0.00e+00 -1.79e-06  1.00e+00]]\n",
      "\n",
      "axis = [5.4335600e+00 0.0000000e+00 4.4408921e-16] ; theta = 36.87\n",
      "\n"
     ]
    }
   ],
   "source": [
    "my_interface.parse_limit(du = 1e-4, S  = 1e-4, sgm1=100, sgm2=100, dd = 1e-4)\n",
    "#Do searching!\n",
    "#We already know that there is a CSL by rotation 180 degrees\n",
    "my_interface.search_one_position(axis,36.0,1,0.01)"
   ]
  },
  {
   "cell_type": "code",
   "execution_count": 24,
   "metadata": {},
   "outputs": [
    {
     "data": {
      "text/plain": [
       "array([-1, -2, -3])"
      ]
     },
     "execution_count": 24,
     "metadata": {},
     "output_type": "execute_result"
    }
   ],
   "source": [
    "hkl = get_primitive_hkl(array([0,1,2]), my_interface.conv_lattice_1, my_interface.lattice_1)\n",
    "hkl"
   ]
  },
  {
   "cell_type": "markdown",
   "metadata": {},
   "source": [
    "# Generate a bicrystal, check the distance from diffrent terminating atomic planes to the boundary!"
   ]
  },
  {
   "cell_type": "code",
   "execution_count": 26,
   "metadata": {},
   "outputs": [
    {
     "name": "stdout",
     "output_type": "stream",
     "text": [
      "cell 1:\n",
      "[[-1 -1  3]\n",
      " [ 1 -1 -3]\n",
      " [ 3  1  1]]\n",
      "cell 2:\n",
      "[[-1 -1  3]\n",
      " [ 1 -1 -3]\n",
      " [ 3  1  1]]\n"
     ]
    }
   ],
   "source": [
    "my_interface.compute_bicrystal(hkl, normal_ortho = True, plane_ortho = True, lim = 50, tol = 1e-2)\n",
    "my_interface.get_bicrystal(xyz_1 = [9,1,1], xyz_2 = [9,1,1],dp1 = 0, dp2 = 0,\\\n",
    "                           filetype = 'LAMMPS', filename = 'atominfile', vx = 10)"
   ]
  },
  {
   "cell_type": "code",
   "execution_count": 27,
   "metadata": {},
   "outputs": [
    {
     "name": "stdout",
     "output_type": "stream",
     "text": [
      "0.6074856784138376 0.0\n"
     ]
    }
   ],
   "source": [
    "print(my_interface.dp_list_1[0], my_interface.dp_list_2[0])"
   ]
  },
  {
   "cell_type": "markdown",
   "metadata": {},
   "source": [
    "This means if dp1 < 0.607..., left GB have first termination; if dp1 > 0.607..., left GB have second termination. For the right GB, if dp2 = 0.0, right GB has first termination..."
   ]
  },
  {
   "cell_type": "markdown",
   "metadata": {},
   "source": [
    "# According to the length of CNID vectors, determining RBT searching grids"
   ]
  },
  {
   "cell_type": "code",
   "execution_count": 28,
   "metadata": {},
   "outputs": [
    {
     "name": "stdout",
     "output_type": "stream",
     "text": [
      "28 34\n"
     ]
    }
   ],
   "source": [
    "grid_1 = int(ceil(norm(my_interface.CNID[:,0])/0.2))\n",
    "grid_2 = int(ceil(norm(my_interface.CNID[:,1])/0.2))\n",
    "print(grid_1, grid_2)"
   ]
  },
  {
   "cell_type": "markdown",
   "metadata": {},
   "source": [
    "# Adjust the orientation of CNID and express it by fractional coordinates \n",
    "We have adjusted the orientation of the bicrystal to make it look better in the VESTA or Ovito, now we need to do this for CNID as well. Also, we need to express CNID in fractional coordinates as our atoms were all in fraction coordinates before being written to the LAMMPS input file, we should adjust their positions by adjusting fractional coordinates of them."
   ]
  },
  {
   "cell_type": "code",
   "execution_count": 29,
   "metadata": {},
   "outputs": [
    {
     "data": {
      "text/plain": [
       "array([[-9.09315636e-35, -2.71099180e-19],\n",
       "       [-1.00000000e+00,  5.00000000e-01],\n",
       "       [-5.29903877e-50, -5.00000000e-01]])"
      ]
     },
     "execution_count": 29,
     "metadata": {},
     "output_type": "execute_result"
    }
   ],
   "source": [
    "CNID = dot(my_interface.orient, my_interface.CNID)\n",
    "CNID = dot(inv(my_interface.lattice_bi), CNID)\n",
    "CNID"
   ]
  },
  {
   "cell_type": "markdown",
   "metadata": {},
   "source": [
    "# Make a folder to save file (might be very large)"
   ]
  },
  {
   "cell_type": "code",
   "execution_count": 31,
   "metadata": {},
   "outputs": [],
   "source": [
    "import os\n",
    "os.mkdir('sigma5_st_AB')\n",
    "os.chdir('sigma5_st_AB')"
   ]
  },
  {
   "cell_type": "markdown",
   "metadata": {},
   "source": [
    "# The nearest atomic distance in the lattice"
   ]
  },
  {
   "cell_type": "code",
   "execution_count": 32,
   "metadata": {},
   "outputs": [],
   "source": [
    "d_nearest = 2.35820"
   ]
  },
  {
   "cell_type": "markdown",
   "metadata": {},
   "source": [
    "# Set the GB dimensions. You need different dimensions to sampling the density of atoms in a complete atomic plane!"
   ]
  },
  {
   "cell_type": "markdown",
   "metadata": {},
   "source": [
    "\n",
    "This is what I used, which has too many files for tutorial \\\n",
    "testing but you can see how I make a fine sampling\n",
    "\n",
    "size_list = [[1, 2], [1, 3], [1, 5], [1, 7], [1, 8],\\\n",
    "             [2, 2], [2, 3], [2, 5], [2, 7], [2, 8],\\\n",
    "             [3, 2], [3, 3], [3, 5], [3, 7], [3, 8],\\\n",
    "             [4, 7], [5, 5], [7, 7]]\n"
   ]
  },
  {
   "cell_type": "markdown",
   "metadata": {},
   "source": [
    "# Defining the GB position (you only translate the right crystal) 109\n"
   ]
  },
  {
   "cell_type": "markdown",
   "metadata": {},
   "source": [
    "# Defining the region for atom deletion (several atomic planes is enough) xlo 106; xhi 111.5"
   ]
  },
  {
   "cell_type": "code",
   "execution_count": 33,
   "metadata": {},
   "outputs": [],
   "source": [
    "size_list = [[1, 1], [1, 2]]\n",
    "\n",
    "for i in size_list:\n",
    "    name = '{0}{1}'.format(i[0],i[1])\n",
    "    os.mkdir(name)\n",
    "    os.chdir(name)\n",
    "    my_interface.get_bicrystal(xyz_1 = [9,i[0],i[1]], xyz_2 = [9,i[0],i[1]],dp1 = 0, dp2 = 0,\\\n",
    "                           filetype = 'LAMMPS', filename = 'atominfile', vx = 10)\n",
    "    RBT_deletion_one_by_one(my_interface.lattice_bi, my_interface.atoms_bi, my_interface.elements_bi, CNID, \\\n",
    "                       [grid_1,grid_2], 109, d_nearest, xlo = 106, xhi = 111.5)\n",
    "    os.chdir(os.path.pardir)"
   ]
  },
  {
   "cell_type": "markdown",
   "metadata": {},
   "source": [
    "# Note that we will use a single LAMMPS input to run simulation for all these files. For this purpose, you need some files saving variables for the LAMMPS to read your generated files. We have three loops:\n",
    "1. Looping the GB expansion\n",
    "2. Looping the RBT\n",
    "3. Looping deletion of atoms"
   ]
  },
  {
   "cell_type": "code",
   "execution_count": 38,
   "metadata": {},
   "outputs": [],
   "source": [
    "file_epl = open('expansion_loop','w')\n",
    "file_cl = open('cnid_loop','w')\n",
    "file_dl = open('deleting_loop','w')\n",
    "count = 0\n",
    "for i in size_list:\n",
    "    expansion_name = '{0}{1}'.format(i[0],i[1])\n",
    "    os.chdir(expansion_name)\n",
    "    for j in range(grid_1):\n",
    "        for k in range(grid_2):\n",
    "            cnid_name = '{0}_{1}'.format(j,k)\n",
    "            os.chdir(cnid_name)\n",
    "            for h in os.listdir():\n",
    "                file_epl.write('{0}{1}\\n'.format(i[0],i[1]))\n",
    "                file_dl.write('{}\\n'.format(h)) \n",
    "                file_cl.write('{} \\n'.format(cnid_name))\n",
    "                count += 1\n",
    "            os.chdir(os.path.pardir)\n",
    "    os.chdir(os.path.pardir)\n",
    "file_epl.close()\n",
    "file_cl.close()\n",
    "file_dl.close()\n",
    "with open('totalnum','w') as f:\n",
    "    f.write('variable num loop {}'.format(count))"
   ]
  },
  {
   "cell_type": "markdown",
   "metadata": {},
   "source": [
    "# Now, we define the 'bulk' and 'middle' regions by making a 'blockfile' in the cell to compute GB properties in LAMMPS. \n",
    "middle: x_range (69, 149)\n",
    "\n",
    "bulk: x_range (39, 69)"
   ]
  },
  {
   "cell_type": "code",
   "execution_count": 39,
   "metadata": {},
   "outputs": [],
   "source": [
    "my_interface.define_lammps_regions(['middle','bulk'],[69,39],[149,69])"
   ]
  },
  {
   "cell_type": "markdown",
   "metadata": {},
   "source": [
    "# Now, copy the 'Si.tersoff' and 'proto.in' in the 'test_file' folder to this folder, then run LAMMPS!"
   ]
  }
 ],
 "metadata": {
  "kernelspec": {
   "display_name": "Python 3",
   "language": "python",
   "name": "python3"
  },
  "language_info": {
   "codemirror_mode": {
    "name": "ipython",
    "version": 3
   },
   "file_extension": ".py",
   "mimetype": "text/x-python",
   "name": "python",
   "nbconvert_exporter": "python",
   "pygments_lexer": "ipython3",
   "version": "3.8.3"
  }
 },
 "nbformat": 4,
 "nbformat_minor": 4
}
