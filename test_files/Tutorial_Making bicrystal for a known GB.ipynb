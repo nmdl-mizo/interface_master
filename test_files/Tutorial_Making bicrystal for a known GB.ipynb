{
 "cells": [
  {
   "cell_type": "code",
   "execution_count": 1,
   "metadata": {},
   "outputs": [],
   "source": [
    "from interfacemaster.cellcalc import get_primitive_hkl\n",
    "from interfacemaster.interface_generator import core, print_near_axis, convert_vector_index\n",
    "from numpy import array, dot, round, var, average\n",
    "from numpy.linalg import inv"
   ]
  },
  {
   "cell_type": "markdown",
   "metadata": {},
   "source": [
    "# Define an interface core class"
   ]
  },
  {
   "cell_type": "markdown",
   "metadata": {},
   "source": [
    "Input two cif files.For GBs, input the same file; for interfaces, input two different files.\n",
    "\n",
    "\n",
    "The first structure is non-changed while the second one can be deformed to form an approximate CSL\n",
    "\n",
    "Please input files of CONVENTIONAL cells if you are not familiar with the indices in the primitive cell."
   ]
  },
  {
   "cell_type": "code",
   "execution_count": 2,
   "metadata": {},
   "outputs": [
    {
     "name": "stdout",
     "output_type": "stream",
     "text": [
      "Warning!, this programme will rewrite the POSCAR file in this dir!\n"
     ]
    }
   ],
   "source": [
    "my_interface = core('cif_files/CIS-exp.cif','cif_files/CIS-exp.cif')"
   ]
  },
  {
   "cell_type": "markdown",
   "metadata": {},
   "source": [
    "# Specify the rotation axis and searching parameters to find an approximate CSL"
   ]
  },
  {
   "cell_type": "markdown",
   "metadata": {},
   "source": [
    "Rotation axis should be expressed in the primitive cell frame, we can convert this.\n",
    "\n",
    "For example we need an axis [2,-2,1] expressed in the conventional cell."
   ]
  },
  {
   "cell_type": "code",
   "execution_count": 25,
   "metadata": {},
   "outputs": [
    {
     "data": {
      "text/plain": [
       "array([ 3., -1.,  2.])"
      ]
     },
     "execution_count": 25,
     "metadata": {},
     "output_type": "execute_result"
    }
   ],
   "source": [
    "axis = convert_vector_index(my_interface.conv_lattice_1, my_interface.lattice_1, [2,-2,1])\n",
    "axis"
   ]
  },
  {
   "cell_type": "markdown",
   "metadata": {},
   "source": [
    "For the meaning of searching parameters, please check the paper.\n",
    "\n",
    "If you are making an exact CSL, just set du, S & dd to be 'very small'. \n",
    "\n",
    "In this case we make a known twinning GB, which is an exact CSL."
   ]
  },
  {
   "cell_type": "code",
   "execution_count": 26,
   "metadata": {},
   "outputs": [
    {
     "name": "stdout",
     "output_type": "stream",
     "text": [
      "[ 11.562  -11.562   11.6422]\n",
      "Congrates, we found an appx CSL!\n",
      "\n",
      "U1 = \n",
      "[[ 0  1 -1]\n",
      " [ 1  1  1]\n",
      " [ 1  0 -1]]; sigma_1 = 3\n",
      "\n",
      "U2 = \n",
      "[[ 0 -1 -2]\n",
      " [-1 -1  0]\n",
      " [-1  0 -1]]; sigma_2 = 3\n",
      "\n",
      "D = \n",
      "[[ 1.0030793  -0.0030793  -0.00611617]\n",
      " [-0.0030793   1.0030793   0.00611617]\n",
      " [ 0.00310066 -0.00310066  0.9938414 ]]\n",
      "\n",
      "axis = [ 11.562  -11.562   11.6422] ; theta = 180.0\n",
      "\n"
     ]
    }
   ],
   "source": [
    "my_interface.parse_limit(du = 1e-2, S  = 1e-2, sgm1=100, sgm2=100, dd = 1e-2)\n",
    "\n",
    "#Do searching!\n",
    "#We already know that there is a CSL by rotation 180 degrees\n",
    "my_interface.search_one_position(axis,180,1,0.01)"
   ]
  },
  {
   "cell_type": "markdown",
   "metadata": {},
   "source": [
    "'U1', 'U2' are two sets of indices of the CSL in the two crystals' frames,\n",
    "'D' is the deformation applied to the crystal 2 to form an approximate CSL\n",
    "\n",
    "As you can see, to form a twinning structure we need to deform the structure provided!"
   ]
  },
  {
   "cell_type": "markdown",
   "metadata": {},
   "source": [
    "# Convert the miller indices to be expressed in the primitive cell"
   ]
  },
  {
   "cell_type": "markdown",
   "metadata": {},
   "source": [
    "Now we need to specify the orientation of our interface, which is by giving a miller indices in expressed in the primitive cell."
   ]
  },
  {
   "cell_type": "code",
   "execution_count": 27,
   "metadata": {},
   "outputs": [
    {
     "data": {
      "text/plain": [
       "array([ 1, -1,  1])"
      ]
     },
     "execution_count": 27,
     "metadata": {},
     "output_type": "execute_result"
    }
   ],
   "source": [
    "\"\"\"\n",
    "The interface plane is the [1,-1,2] plane in the conventional cell and now we \\\n",
    "transform it into primitive cell\n",
    "\"\"\"\n",
    "hkl = get_primitive_hkl(array([1,-1,2]), my_interface.conv_lattice_1, my_interface.lattice_1)\n",
    "hkl"
   ]
  },
  {
   "cell_type": "markdown",
   "metadata": {},
   "source": [
    "# Compute the indices of the two slabs to make bicrystal"
   ]
  },
  {
   "cell_type": "markdown",
   "metadata": {},
   "source": [
    "Now let's compute the indices of the two slabs forming the interface\n",
    "If you want a near orthogonal bicrystal, please set 'orthogonal to yes, \n",
    "and adjust the lim & tol."
   ]
  },
  {
   "cell_type": "code",
   "execution_count": 28,
   "metadata": {},
   "outputs": [
    {
     "name": "stdout",
     "output_type": "stream",
     "text": [
      "cell 1:\n",
      "[[-3  0  1]\n",
      " [ 1  1  1]\n",
      " [-2  1  0]]\n",
      "cell 2:\n",
      "[[-3  0  1]\n",
      " [ 1  1  1]\n",
      " [-2  1  0]]\n"
     ]
    }
   ],
   "source": [
    "my_interface.compute_bicrystal(hkl, orthogonal = True, lim = 50, tol = 1e-2)"
   ]
  },
  {
   "cell_type": "markdown",
   "metadata": {},
   "source": [
    "Here we obtained the two sets of indices to build a bicrystal"
   ]
  },
  {
   "cell_type": "markdown",
   "metadata": {},
   "source": [
    "# Make a bicrystal!"
   ]
  },
  {
   "cell_type": "markdown",
   "metadata": {},
   "source": [
    "You can adjust the bicrystal by\n",
    "1. do expansion by set 'xyz' = [dimX, dimY, dimZ]\n",
    "2. do RBT by 'dzdy' = a translation vector \n",
    "(please confine dzdy in the interface plane, \n",
    "for RBT in the normal, please use 'dp1' and 'dp2', to make vacuum in the interface use 'dx');\n",
    "3. introduce vacuum in the interface by 'dx' = the distance spacing the two crystals\n",
    "4. adjust the termination by 'dp1', 'dp2' = length of shift of the position of \n",
    "the termination from the interface into the bulk\n",
    "5. introduce vacuum to make a surface in the end of the bicrystal by\n",
    "'vx' = length of the vaccumn\n",
    "\n",
    "default: xyz = [1,1,1] and others = 0"
   ]
  },
  {
   "cell_type": "code",
   "execution_count": 12,
   "metadata": {},
   "outputs": [],
   "source": [
    "my_interface.get_bicrystal(xyz_1 = [1,1,1], xyz_2 = [1,1,1], dydz = my_interface.CNID[:,1])"
   ]
  },
  {
   "cell_type": "markdown",
   "metadata": {},
   "source": [
    "Good! You have made a 'POSCAR' file of this bicrystal, we also generated two files named 'cell_1.cif' and 'cell_2.cif' providing the structure of the two slabs."
   ]
  },
  {
   "cell_type": "code",
   "execution_count": 29,
   "metadata": {},
   "outputs": [
    {
     "name": "stdout",
     "output_type": "stream",
     "text": [
      "CNID\n",
      "[[ 0. -1.]\n",
      " [-1. -1.]\n",
      " [-1.  0.]]\n",
      "making 400 files...\n",
      "completed\n"
     ]
    }
   ],
   "source": [
    "#To sample the CNID, try\n",
    "my_interface.sample_CNID(grid = [20,20], xyz_1 = [1,1,1], xyz_2 = [1,1,1])"
   ]
  },
  {
   "cell_type": "markdown",
   "metadata": {},
   "source": [
    "Please check the generated 'POSCAR.x.y' files. \n",
    "The CNID here is expressed in the primitive cell's frame.\n",
    "You can refer to the cartesian coordinates or in the conventional cell's frame"
   ]
  },
  {
   "cell_type": "code",
   "execution_count": 15,
   "metadata": {},
   "outputs": [
    {
     "data": {
      "text/plain": [
       "array([[ 2.8905, -5.781 ],\n",
       "       [-2.8905, -5.781 ],\n",
       "       [-5.8211, -0.    ]])"
      ]
     },
     "execution_count": 15,
     "metadata": {},
     "output_type": "execute_result"
    }
   ],
   "source": [
    "CNID_cartesian = round(my_interface.CNID,8)\n",
    "CNID_cartesian"
   ]
  },
  {
   "cell_type": "code",
   "execution_count": 16,
   "metadata": {},
   "outputs": [
    {
     "data": {
      "text/plain": [
       "array([[ 0.5, -1. ],\n",
       "       [-0.5, -1. ],\n",
       "       [-0.5,  0. ]])"
      ]
     },
     "execution_count": 16,
     "metadata": {},
     "output_type": "execute_result"
    }
   ],
   "source": [
    "CNID_conv = round(dot(inv(my_interface.conv_lattice_1)\\\n",
    "                              , my_interface.CNID),8)\n",
    "CNID_conv"
   ]
  }
 ],
 "metadata": {
  "kernelspec": {
   "display_name": "Python 3",
   "language": "python",
   "name": "python3"
  },
  "language_info": {
   "codemirror_mode": {
    "name": "ipython",
    "version": 3
   },
   "file_extension": ".py",
   "mimetype": "text/x-python",
   "name": "python",
   "nbconvert_exporter": "python",
   "pygments_lexer": "ipython3",
   "version": "3.8.3"
  }
 },
 "nbformat": 4,
 "nbformat_minor": 4
}
