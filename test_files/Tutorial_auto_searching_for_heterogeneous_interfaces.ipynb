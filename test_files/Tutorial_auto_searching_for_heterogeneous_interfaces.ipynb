{
 "cells": [
  {
   "cell_type": "code",
   "execution_count": 20,
   "id": "f7f0a78d-c557-4b83-b0c5-cd85f108e13d",
   "metadata": {},
   "outputs": [
    {
     "name": "stdout",
     "output_type": "stream",
     "text": [
      "Collecting git+https://github.com/nmdl-mizo/interface_master.git@develop\n",
      "  Cloning https://github.com/nmdl-mizo/interface_master.git (to revision develop) to /private/var/folders/km/tznxn_d162bgzpqpzp9wcjn00000gn/T/pip-req-build-bnqx4yyq\n",
      "  Running command git clone --filter=blob:none --quiet https://github.com/nmdl-mizo/interface_master.git /private/var/folders/km/tznxn_d162bgzpqpzp9wcjn00000gn/T/pip-req-build-bnqx4yyq\n",
      "^C\n",
      "\u001b[31mERROR: Operation cancelled by user\u001b[0m\u001b[31m\n",
      "\u001b[0m  % Total    % Received % Xferd  Average Speed   Time    Time     Time  Current\n",
      "                                 Dload  Upload   Total   Spent    Left  Speed\n",
      "100  1059  100  1059    0     0   1377      0 --:--:-- --:--:-- --:--:--  1377\n",
      "  % Total    % Received % Xferd  Average Speed   Time    Time     Time  Current\n",
      "                                 Dload  Upload   Total   Spent    Left  Speed\n",
      "100   854  100   854    0     0   1274      0 --:--:-- --:--:-- --:--:--  1272\n"
     ]
    }
   ],
   "source": [
    "!pip install git+https://github.com/nmdl-mizo/interface_master.git@develop\n",
    "!mkdir -p cif_files\n",
    "!curl https://raw.githubusercontent.com/nmdl-mizo/interface_master/develop/test_files/cif_files/Si_mp-149_conventional_standard.cif -o 'cif_files/Si_mp-149_conventional_standard.cif'\n",
    "!curl https://raw.githubusercontent.com/nmdl-mizo/interface_master/develop/test_files/cif_files/ZnO_mp-2133_conventional_standard.cif -o 'cif_files/ZnO_mp-2133_conventional_standard.cif'"
   ]
  },
  {
   "cell_type": "code",
   "execution_count": 22,
   "id": "2db9028f-248b-4f56-97fb-1a08037c0272",
   "metadata": {},
   "outputs": [],
   "source": [
    "from interfacemaster.hetero_searching import hetero_searcher\n",
    "from pymatgen.core.structure import Structure"
   ]
  },
  {
   "cell_type": "code",
   "execution_count": 23,
   "id": "e2722386-617c-46ca-b68c-409eccf3bd62",
   "metadata": {},
   "outputs": [],
   "source": [
    "#input substrate & film information\n",
    "substrate_file, film_file = 'cif_files/Si_mp-149_conventional_standard.cif', \\\n",
    "'cif_files/ZnO_mp-2133_conventional_standard.cif'\n",
    "substrate_structure, film_structure = list(map(lambda x:Structure.from_file(x), [substrate_file, film_file]))\n",
    "substrate_name, film_name = 'Si', 'ZnO'\n",
    "my_searcher = hetero_searcher(substrate_structure, film_structure, substrate_name, film_name)"
   ]
  },
  {
   "cell_type": "markdown",
   "id": "4a97e9f2-cc27-4212-9312-47f48b69600b",
   "metadata": {},
   "source": [
    "Might be time consuming with high index limitation. Recommend to start by 2. "
   ]
  },
  {
   "cell_type": "code",
   "execution_count": 24,
   "id": "295ab62a-9bf1-4adf-a4f9-44cfa239a58c",
   "metadata": {},
   "outputs": [
    {
     "name": "stdout",
     "output_type": "stream",
     "text": [
      "81 non-identical matchings found\n"
     ]
    }
   ],
   "source": [
    "#matching\n",
    "my_searcher.matching(film_max_miller = 2, substrate_max_miller = 2)"
   ]
  },
  {
   "cell_type": "code",
   "execution_count": 25,
   "id": "a7f56e4c-25cc-4b86-81e7-62a729acc23d",
   "metadata": {},
   "outputs": [
    {
     "name": "stdout",
     "output_type": "stream",
     "text": [
      "no folder\n",
      "19 interfaces generated, files saved in the dict Si_ZnO_interfaces\n"
     ]
    }
   ],
   "source": [
    "#generating\n",
    "my_searcher.generating(max_anum = 200, min_slab_length = 15)"
   ]
  },
  {
   "cell_type": "code",
   "execution_count": 26,
   "id": "63690a13-e0fd-44ae-b5f0-2d7b32d5bea9",
   "metadata": {},
   "outputs": [],
   "source": [
    "#write interface_info into json data\n",
    "my_searcher.write_results('interface_info')"
   ]
  },
  {
   "cell_type": "markdown",
   "id": "713c21a4-335f-443e-bf3d-1361e7ef6e8b",
   "metadata": {},
   "source": [
    "The searching results provides all the interfaces satsifying your requirement, you can get the interface object by calling its index."
   ]
  },
  {
   "cell_type": "code",
   "execution_count": 27,
   "id": "107d8574-cc40-4fe8-b946-b4b4150c833c",
   "metadata": {},
   "outputs": [],
   "source": [
    "selected_interface = my_searcher.interfaces[1]"
   ]
  },
  {
   "cell_type": "markdown",
   "id": "2584c33d-f9a9-4d4d-b956-c5b5a1c6324d",
   "metadata": {},
   "source": [
    "Then you can customize the interface structure using this selected interface object"
   ]
  },
  {
   "cell_type": "code",
   "execution_count": 28,
   "id": "ee1fa70b-df86-49fb-8fe1-a353b3bfc17d",
   "metadata": {},
   "outputs": [
    {
     "name": "stdout",
     "output_type": "stream",
     "text": [
      "Help on method get_bicrystal in module interfacemaster.interface_generator:\n",
      "\n",
      "get_bicrystal(dydz=None, dx=0, dp1=0, dp2=0, xyz_1=None, xyz_2=None, vx=0, filename='POSCAR', two_D=False, filetype='VASP', mirror=False, KTI=False) method of interfacemaster.interface_generator.core instance\n",
      "    generate a cif file for the bicrystal structure\n",
      "    \n",
      "    Parameters\n",
      "    ----------\n",
      "    dydz : numpy array\n",
      "        translation vector in the interface\n",
      "    dx : float\n",
      "        translation normal to the interface\n",
      "    dp1, dp2 : float\n",
      "        termination of slab 1, 2\n",
      "    xyz1, xyz2 : list\n",
      "        expansion of slab 1, 2\n",
      "    vx : float\n",
      "        vacuum spacing, default 0\n",
      "    filename : str\n",
      "        filename, default 'POSCAR'\n",
      "    two_D : bool\n",
      "        whether a two CSL\n",
      "    filetype : str\n",
      "        filetype, 'VASP' or 'LAMMPS', default 'VASP'\n",
      "    mirror : bool\n",
      "        mirror, default False\n",
      "    KTI : bool\n",
      "        KTI, default False\n",
      "\n"
     ]
    }
   ],
   "source": [
    "help(selected_interface.get_bicrystal)"
   ]
  },
  {
   "cell_type": "code",
   "execution_count": 29,
   "id": "71e39334-3127-4898-98ce-2ac58805bedc",
   "metadata": {},
   "outputs": [],
   "source": [
    "#e.g increase interface displacing\n",
    "from numpy import ceil\n",
    "min_slab_length = 15\n",
    "x1, x2 = int(ceil(15 / selected_interface.height_1)), int(ceil(15/selected_interface.height_2))\n",
    "selected_interface.get_bicrystal(two_D = True, xyz_1 = [x1,1,1], xyz_2 = [x2,1,1], vx=5, dx=5, filename= 'POSCAR')"
   ]
  }
 ],
 "metadata": {
  "kernelspec": {
   "display_name": "Python 3 (ipykernel)",
   "language": "python",
   "name": "python3"
  },
  "language_info": {
   "codemirror_mode": {
    "name": "ipython",
    "version": 3
   },
   "file_extension": ".py",
   "mimetype": "text/x-python",
   "name": "python",
   "nbconvert_exporter": "python",
   "pygments_lexer": "ipython3",
   "version": "3.11.8"
  }
 },
 "nbformat": 4,
 "nbformat_minor": 5
}
