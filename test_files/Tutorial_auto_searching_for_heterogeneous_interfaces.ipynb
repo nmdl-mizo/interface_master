{
 "cells": [
  {
   "cell_type": "code",
   "execution_count": 20,
   "id": "f7f0a78d-c557-4b83-b0c5-cd85f108e13d",
   "metadata": {},
   "outputs": [
    {
     "name": "stdout",
     "output_type": "stream",
     "text": [
      "Collecting git+https://github.com/nmdl-mizo/interface_master.git@develop\n",
      "  Cloning https://github.com/nmdl-mizo/interface_master.git (to revision develop) to /private/var/folders/km/tznxn_d162bgzpqpzp9wcjn00000gn/T/pip-req-build-bnqx4yyq\n",
      "  Running command git clone --filter=blob:none --quiet https://github.com/nmdl-mizo/interface_master.git /private/var/folders/km/tznxn_d162bgzpqpzp9wcjn00000gn/T/pip-req-build-bnqx4yyq\n",
      "^C\n",
      "\u001b[31mERROR: Operation cancelled by user\u001b[0m\u001b[31m\n",
      "\u001b[0m  % Total    % Received % Xferd  Average Speed   Time    Time     Time  Current\n",
      "                                 Dload  Upload   Total   Spent    Left  Speed\n",
      "100  1059  100  1059    0     0   1377      0 --:--:-- --:--:-- --:--:--  1377\n",
      "  % Total    % Received % Xferd  Average Speed   Time    Time     Time  Current\n",
      "                                 Dload  Upload   Total   Spent    Left  Speed\n",
      "100   854  100   854    0     0   1274      0 --:--:-- --:--:-- --:--:--  1272\n"
     ]
    }
   ],
   "source": [
    "!pip install git+https://github.com/nmdl-mizo/interface_master.git@develop\n",
    "!mkdir -p cif_files\n",
    "!curl https://raw.githubusercontent.com/nmdl-mizo/interface_master/develop/test_files/cif_files/Si_mp-149_conventional_standard.cif -o 'cif_files/Si_mp-149_conventional_standard.cif'\n",
    "!curl https://raw.githubusercontent.com/nmdl-mizo/interface_master/develop/test_files/cif_files/ZnO_mp-2133_conventional_standard.cif -o 'cif_files/ZnO_mp-2133_conventional_standard.cif'"
   ]
  },
  {
   "cell_type": "code",
   "execution_count": 1,
   "id": "2db9028f-248b-4f56-97fb-1a08037c0272",
   "metadata": {},
   "outputs": [],
   "source": [
    "from interfacemaster.hetero_searching import hetero_searcher\n",
    "from pymatgen.core.structure import Structure"
   ]
  },
  {
   "cell_type": "code",
   "execution_count": 2,
   "id": "e2722386-617c-46ca-b68c-409eccf3bd62",
   "metadata": {},
   "outputs": [
    {
     "name": "stderr",
     "output_type": "stream",
     "text": [
      "/opt/anaconda3/envs/general/lib/python3.11/site-packages/pymatgen/io/cif.py:1229: UserWarning: Issues encountered while parsing CIF: 8 fractional coordinates rounded to ideal values to avoid issues with finite precision.\n",
      "  warnings.warn(\"Issues encountered while parsing CIF: \" + \"\\n\".join(self.warnings))\n"
     ]
    }
   ],
   "source": [
    "#input substrate & film information\n",
    "substrate_file, film_file = 'cif_files/Si_mp-149_conventional_standard.cif', \\\n",
    "'cif_files/ZnO_mp-2133_conventional_standard.cif'\n",
    "substrate_structure, film_structure = list(map(lambda x:Structure.from_file(x), [substrate_file, film_file]))\n",
    "substrate_name, film_name = 'Si', 'ZnO'\n",
    "my_searcher = hetero_searcher(substrate_structure, film_structure, substrate_name, film_name)"
   ]
  },
  {
   "cell_type": "markdown",
   "id": "4a97e9f2-cc27-4212-9312-47f48b69600b",
   "metadata": {},
   "source": [
    "Might be time consuming with high index limitation. Recommend to start by 2. "
   ]
  },
  {
   "cell_type": "code",
   "execution_count": 3,
   "id": "295ab62a-9bf1-4adf-a4f9-44cfa239a58c",
   "metadata": {},
   "outputs": [
    {
     "name": "stdout",
     "output_type": "stream",
     "text": [
      "57 non-identical matchings found\n"
     ]
    }
   ],
   "source": [
    "#matching\n",
    "my_searcher.matching(film_max_miller = 1, substrate_max_miller = 1)"
   ]
  },
  {
   "cell_type": "code",
   "execution_count": 4,
   "id": "a7f56e4c-25cc-4b86-81e7-62a729acc23d",
   "metadata": {},
   "outputs": [
    {
     "name": "stdout",
     "output_type": "stream",
     "text": [
      "19 interfaces generated, files saved in the dict Si_ZnO_interfaces\n"
     ]
    }
   ],
   "source": [
    "#generating\n",
    "my_searcher.generating(max_anum = 200, min_slab_length = 15)"
   ]
  },
  {
   "cell_type": "code",
   "execution_count": 5,
   "id": "63690a13-e0fd-44ae-b5f0-2d7b32d5bea9",
   "metadata": {},
   "outputs": [],
   "source": [
    "#write interface_info into json data\n",
    "my_searcher.write_results('interface_info')"
   ]
  },
  {
   "cell_type": "markdown",
   "id": "713c21a4-335f-443e-bf3d-1361e7ef6e8b",
   "metadata": {},
   "source": [
    "The searching results provides all the interfaces satsifying your requirement, you can get the interface object by calling its index."
   ]
  },
  {
   "cell_type": "code",
   "execution_count": 6,
   "id": "107d8574-cc40-4fe8-b946-b4b4150c833c",
   "metadata": {},
   "outputs": [],
   "source": [
    "selected_interface = my_searcher.interfaces[1]"
   ]
  },
  {
   "cell_type": "markdown",
   "id": "2584c33d-f9a9-4d4d-b956-c5b5a1c6324d",
   "metadata": {},
   "source": [
    "Then you can customize the interface structure using this selected interface object"
   ]
  },
  {
   "cell_type": "code",
   "execution_count": 7,
   "id": "ee1fa70b-df86-49fb-8fe1-a353b3bfc17d",
   "metadata": {},
   "outputs": [
    {
     "name": "stdout",
     "output_type": "stream",
     "text": [
      "Help on method get_bicrystal in module interfacemaster.interface_generator:\n",
      "\n",
      "get_bicrystal(dydz=None, dx=0, dp1=0, dp2=0, xyz_1=None, xyz_2=None, vx=0, filename='POSCAR', two_D=False, filetype='VASP', mirror=False, KTI=False) method of interfacemaster.interface_generator.core instance\n",
      "    generate a cif file for the bicrystal structure\n",
      "    \n",
      "    Parameters\n",
      "    ----------\n",
      "    dydz : numpy array\n",
      "        translation vector in the interface\n",
      "    dx : float\n",
      "        translation normal to the interface\n",
      "    dp1, dp2 : float\n",
      "        termination of slab 1, 2\n",
      "    xyz1, xyz2 : list\n",
      "        expansion of slab 1, 2\n",
      "    vx : float\n",
      "        vacuum spacing, default 0\n",
      "    filename : str\n",
      "        filename, default 'POSCAR'\n",
      "    two_D : bool\n",
      "        whether a two CSL\n",
      "    filetype : str\n",
      "        filetype, 'VASP' or 'LAMMPS', default 'VASP'\n",
      "    mirror : bool\n",
      "        mirror, default False\n",
      "    KTI : bool\n",
      "        KTI, default False\n",
      "\n"
     ]
    }
   ],
   "source": [
    "help(selected_interface.get_bicrystal)"
   ]
  },
  {
   "cell_type": "code",
   "execution_count": 8,
   "id": "71e39334-3127-4898-98ce-2ac58805bedc",
   "metadata": {},
   "outputs": [],
   "source": [
    "#e.g increase interface displacing\n",
    "from numpy import ceil\n",
    "min_slab_length = 15\n",
    "x1, x2 = int(ceil(15 / selected_interface.height_1)), int(ceil(15/selected_interface.height_2))\n",
    "selected_interface.get_bicrystal(two_D = True, xyz_1 = [x1,1,1], xyz_2 = [x2,1,1], vx=5, dx=5, filename= 'POSCAR')"
   ]
  },
  {
   "cell_type": "code",
   "execution_count": 9,
   "id": "ba257d1d-ac00-42a5-bccc-9aa0641263bd",
   "metadata": {},
   "outputs": [
    {
     "name": "stdout",
     "output_type": "stream",
     "text": [
      "2 2\n"
     ]
    }
   ],
   "source": [
    "from numpy.linalg import norm\n",
    "grid_dense = 1\n",
    "n1 = int(ceil(norm(selected_interface.CNID[:,0])))\n",
    "n2 = int(ceil(norm(selected_interface.CNID[:,1])))\n",
    "print(n1, n2)"
   ]
  },
  {
   "cell_type": "code",
   "execution_count": 10,
   "id": "ce4505a9-35b0-4c50-87b0-13e070158a19",
   "metadata": {},
   "outputs": [
    {
     "name": "stdout",
     "output_type": "stream",
     "text": [
      "left bound: 0.1034303923441336\n",
      "right bound: 0.6996881136351197\n"
     ]
    },
    {
     "ename": "ValueError",
     "evalue": "could not convert string to float: 'T'",
     "output_type": "error",
     "traceback": [
      "\u001b[0;31m---------------------------------------------------------------------------\u001b[0m",
      "\u001b[0;31mValueError\u001b[0m                                Traceback (most recent call last)",
      "Cell \u001b[0;32mIn[10], line 3\u001b[0m\n\u001b[1;32m      1\u001b[0m min_slab_length \u001b[38;5;241m=\u001b[39m \u001b[38;5;241m15\u001b[39m\n\u001b[1;32m      2\u001b[0m x1, x2 \u001b[38;5;241m=\u001b[39m \u001b[38;5;28mint\u001b[39m(ceil(\u001b[38;5;241m15\u001b[39m \u001b[38;5;241m/\u001b[39m selected_interface\u001b[38;5;241m.\u001b[39mheight_1)), \u001b[38;5;28mint\u001b[39m(ceil(\u001b[38;5;241m15\u001b[39m\u001b[38;5;241m/\u001b[39mselected_interface\u001b[38;5;241m.\u001b[39mheight_2))\n\u001b[0;32m----> 3\u001b[0m selected_interface\u001b[38;5;241m.\u001b[39msample_CNID(grid \u001b[38;5;241m=\u001b[39m [n1,n2] ,two_D \u001b[38;5;241m=\u001b[39m \u001b[38;5;28;01mTrue\u001b[39;00m, xyz_1 \u001b[38;5;241m=\u001b[39m [x1,\u001b[38;5;241m1\u001b[39m,\u001b[38;5;241m1\u001b[39m], xyz_2 \u001b[38;5;241m=\u001b[39m [x2,\u001b[38;5;241m1\u001b[39m,\u001b[38;5;241m1\u001b[39m], vx\u001b[38;5;241m=\u001b[39m\u001b[38;5;241m5\u001b[39m, dx\u001b[38;5;241m=\u001b[39m\u001b[38;5;241m5\u001b[39m, filename\u001b[38;5;241m=\u001b[39m \u001b[38;5;124m'\u001b[39m\u001b[38;5;124mPOSCAR\u001b[39m\u001b[38;5;124m'\u001b[39m, fix_frac\u001b[38;5;241m=\u001b[39m\u001b[38;5;241m0.33\u001b[39m)\n",
      "File \u001b[0;32m/opt/anaconda3/envs/general/lib/python3.11/site-packages/interfacemaster/interface_generator.py:2029\u001b[0m, in \u001b[0;36mcore.sample_CNID\u001b[0;34m(self, grid, dx, dp1, dp2, xyz_1, xyz_2, vx, two_D, filename, filetype, incar_path, potcar_path, fix_frac)\u001b[0m\n\u001b[1;32m   2026\u001b[0m     TF_arrays, fix_ids, fixed_coords  \u001b[38;5;241m=\u001b[39m get_fix_atom_TFarray(vasp_poscar_name, \\\n\u001b[1;32m   2027\u001b[0m      norm(dot(\u001b[38;5;28mself\u001b[39m\u001b[38;5;241m.\u001b[39mlattice_1, \u001b[38;5;28mself\u001b[39m\u001b[38;5;241m.\u001b[39mbicrystal_U1[:,\u001b[38;5;241m0\u001b[39m])) \u001b[38;5;241m*\u001b[39m xyz_1[\u001b[38;5;241m0\u001b[39m], fix_frac)\n\u001b[1;32m   2028\u001b[0m     combine_poscar_TFarray(vasp_poscar_name, TF_arrays, vasp_poscar_name)\n\u001b[0;32m-> 2029\u001b[0m write_KPOINTS_gama(vasp_poscar_name, \u001b[38;5;241m20\u001b[39m, \u001b[38;5;124mf\u001b[39m\u001b[38;5;124m'\u001b[39m\u001b[38;5;124mvasp_inputs_cnid_search/\u001b[39m\u001b[38;5;132;01m{\u001b[39;00mi\u001b[38;5;132;01m}\u001b[39;00m\u001b[38;5;124m_\u001b[39m\u001b[38;5;132;01m{\u001b[39;00mj\u001b[38;5;132;01m}\u001b[39;00m\u001b[38;5;124m/KPOINTS\u001b[39m\u001b[38;5;124m'\u001b[39m)\n\u001b[1;32m   2030\u001b[0m \u001b[38;5;28;01mtry\u001b[39;00m:\n\u001b[1;32m   2031\u001b[0m     shutil\u001b[38;5;241m.\u001b[39mcopy(incar_path, \u001b[38;5;124mf\u001b[39m\u001b[38;5;124m'\u001b[39m\u001b[38;5;124mvasp_inputs_cnid_search/\u001b[39m\u001b[38;5;132;01m{\u001b[39;00mi\u001b[38;5;132;01m}\u001b[39;00m\u001b[38;5;124m_\u001b[39m\u001b[38;5;132;01m{\u001b[39;00mj\u001b[38;5;132;01m}\u001b[39;00m\u001b[38;5;124m/INCAR\u001b[39m\u001b[38;5;124m'\u001b[39m)\n",
      "File \u001b[0;32m/opt/anaconda3/envs/general/lib/python3.11/site-packages/interfacemaster/tool.py:13\u001b[0m, in \u001b[0;36mwrite_KPOINTS_gama\u001b[0;34m(poscar_file, dens, filename)\u001b[0m\n\u001b[1;32m     12\u001b[0m \u001b[38;5;28;01mdef\u001b[39;00m \u001b[38;5;21mwrite_KPOINTS_gama\u001b[39m(poscar_file, dens, filename \u001b[38;5;241m=\u001b[39m \u001b[38;5;124m'\u001b[39m\u001b[38;5;124mKPOINTS\u001b[39m\u001b[38;5;124m'\u001b[39m):\n\u001b[0;32m---> 13\u001b[0m     ka, kb, kc \u001b[38;5;241m=\u001b[39m generate_KPOINTS(poscar_file, dens)\n\u001b[1;32m     14\u001b[0m     \u001b[38;5;28;01mwith\u001b[39;00m \u001b[38;5;28mopen\u001b[39m(filename, \u001b[38;5;124m'\u001b[39m\u001b[38;5;124mw\u001b[39m\u001b[38;5;124m'\u001b[39m) \u001b[38;5;28;01mas\u001b[39;00m f:\n\u001b[1;32m     15\u001b[0m         f\u001b[38;5;241m.\u001b[39mwrite(\u001b[38;5;124m'\u001b[39m\u001b[38;5;124mKPOINTS by YJ\u001b[39m\u001b[38;5;130;01m\\n\u001b[39;00m\u001b[38;5;124m'\u001b[39m)\n",
      "File \u001b[0;32m/opt/anaconda3/envs/general/lib/python3.11/site-packages/interfacemaster/tool.py:6\u001b[0m, in \u001b[0;36mgenerate_KPOINTS\u001b[0;34m(poscar_file, dens)\u001b[0m\n\u001b[1;32m      5\u001b[0m \u001b[38;5;28;01mdef\u001b[39;00m \u001b[38;5;21mgenerate_KPOINTS\u001b[39m(poscar_file, dens):\n\u001b[0;32m----> 6\u001b[0m     pos_struc \u001b[38;5;241m=\u001b[39m Structure\u001b[38;5;241m.\u001b[39mfrom_file(poscar_file)\n\u001b[1;32m      7\u001b[0m     a, b, c \u001b[38;5;241m=\u001b[39m norm(pos_struc\u001b[38;5;241m.\u001b[39mlattice\u001b[38;5;241m.\u001b[39mmatrix, axis \u001b[38;5;241m=\u001b[39m \u001b[38;5;241m1\u001b[39m)\n\u001b[1;32m      8\u001b[0m     ka, kb, kc \u001b[38;5;241m=\u001b[39m \u001b[38;5;28mint\u001b[39m(ceil(dens\u001b[38;5;241m/\u001b[39ma)), \u001b[38;5;28mint\u001b[39m(ceil(dens\u001b[38;5;241m/\u001b[39mb)), \u001b[38;5;28mint\u001b[39m(ceil(dens\u001b[38;5;241m/\u001b[39mc))\n",
      "File \u001b[0;32m/opt/anaconda3/envs/general/lib/python3.11/site-packages/pymatgen/core/structure.py:2939\u001b[0m, in \u001b[0;36mIStructure.from_file\u001b[0;34m(cls, filename, primitive, sort, merge_tol, **kwargs)\u001b[0m\n\u001b[1;32m   2937\u001b[0m     \u001b[38;5;28;01mreturn\u001b[39;00m \u001b[38;5;28mcls\u001b[39m\u001b[38;5;241m.\u001b[39mfrom_str(contents, fmt\u001b[38;5;241m=\u001b[39m\u001b[38;5;124m\"\u001b[39m\u001b[38;5;124mcif\u001b[39m\u001b[38;5;124m\"\u001b[39m, primitive\u001b[38;5;241m=\u001b[39mprimitive, sort\u001b[38;5;241m=\u001b[39msort, merge_tol\u001b[38;5;241m=\u001b[39mmerge_tol, \u001b[38;5;241m*\u001b[39m\u001b[38;5;241m*\u001b[39mkwargs)\n\u001b[1;32m   2938\u001b[0m \u001b[38;5;28;01mif\u001b[39;00m fnmatch(fname, \u001b[38;5;124m\"\u001b[39m\u001b[38;5;124m*POSCAR*\u001b[39m\u001b[38;5;124m\"\u001b[39m) \u001b[38;5;129;01mor\u001b[39;00m fnmatch(fname, \u001b[38;5;124m\"\u001b[39m\u001b[38;5;124m*CONTCAR*\u001b[39m\u001b[38;5;124m\"\u001b[39m) \u001b[38;5;129;01mor\u001b[39;00m fnmatch(fname, \u001b[38;5;124m\"\u001b[39m\u001b[38;5;124m*.vasp\u001b[39m\u001b[38;5;124m\"\u001b[39m):\n\u001b[0;32m-> 2939\u001b[0m     struct \u001b[38;5;241m=\u001b[39m \u001b[38;5;28mcls\u001b[39m\u001b[38;5;241m.\u001b[39mfrom_str(contents, fmt\u001b[38;5;241m=\u001b[39m\u001b[38;5;124m\"\u001b[39m\u001b[38;5;124mposcar\u001b[39m\u001b[38;5;124m\"\u001b[39m, primitive\u001b[38;5;241m=\u001b[39mprimitive, sort\u001b[38;5;241m=\u001b[39msort, merge_tol\u001b[38;5;241m=\u001b[39mmerge_tol, \u001b[38;5;241m*\u001b[39m\u001b[38;5;241m*\u001b[39mkwargs)\n\u001b[1;32m   2941\u001b[0m \u001b[38;5;28;01melif\u001b[39;00m fnmatch(fname, \u001b[38;5;124m\"\u001b[39m\u001b[38;5;124mCHGCAR*\u001b[39m\u001b[38;5;124m\"\u001b[39m) \u001b[38;5;129;01mor\u001b[39;00m fnmatch(fname, \u001b[38;5;124m\"\u001b[39m\u001b[38;5;124mLOCPOT*\u001b[39m\u001b[38;5;124m\"\u001b[39m):\n\u001b[1;32m   2942\u001b[0m     struct \u001b[38;5;241m=\u001b[39m Chgcar\u001b[38;5;241m.\u001b[39mfrom_file(filename, \u001b[38;5;241m*\u001b[39m\u001b[38;5;241m*\u001b[39mkwargs)\u001b[38;5;241m.\u001b[39mstructure\n",
      "File \u001b[0;32m/opt/anaconda3/envs/general/lib/python3.11/site-packages/pymatgen/core/structure.py:2851\u001b[0m, in \u001b[0;36mIStructure.from_str\u001b[0;34m(cls, input_string, fmt, primitive, sort, merge_tol, **kwargs)\u001b[0m\n\u001b[1;32m   2848\u001b[0m \u001b[38;5;28;01melif\u001b[39;00m fmt_low \u001b[38;5;241m==\u001b[39m \u001b[38;5;124m\"\u001b[39m\u001b[38;5;124mposcar\u001b[39m\u001b[38;5;124m\"\u001b[39m:\n\u001b[1;32m   2849\u001b[0m     \u001b[38;5;28;01mfrom\u001b[39;00m \u001b[38;5;21;01mpymatgen\u001b[39;00m\u001b[38;5;21;01m.\u001b[39;00m\u001b[38;5;21;01mio\u001b[39;00m\u001b[38;5;21;01m.\u001b[39;00m\u001b[38;5;21;01mvasp\u001b[39;00m \u001b[38;5;28;01mimport\u001b[39;00m Poscar\n\u001b[0;32m-> 2851\u001b[0m     struct \u001b[38;5;241m=\u001b[39m Poscar\u001b[38;5;241m.\u001b[39mfrom_str(input_string, default_names\u001b[38;5;241m=\u001b[39m\u001b[38;5;28;01mFalse\u001b[39;00m, read_velocities\u001b[38;5;241m=\u001b[39m\u001b[38;5;28;01mFalse\u001b[39;00m, \u001b[38;5;241m*\u001b[39m\u001b[38;5;241m*\u001b[39mkwargs)\u001b[38;5;241m.\u001b[39mstructure\n\u001b[1;32m   2852\u001b[0m \u001b[38;5;28;01melif\u001b[39;00m fmt_low \u001b[38;5;241m==\u001b[39m \u001b[38;5;124m\"\u001b[39m\u001b[38;5;124mcssr\u001b[39m\u001b[38;5;124m\"\u001b[39m:\n\u001b[1;32m   2853\u001b[0m     \u001b[38;5;28;01mfrom\u001b[39;00m \u001b[38;5;21;01mpymatgen\u001b[39;00m\u001b[38;5;21;01m.\u001b[39;00m\u001b[38;5;21;01mio\u001b[39;00m\u001b[38;5;21;01m.\u001b[39;00m\u001b[38;5;21;01mcssr\u001b[39;00m \u001b[38;5;28;01mimport\u001b[39;00m Cssr\n",
      "File \u001b[0;32m/opt/anaconda3/envs/general/lib/python3.11/site-packages/pymatgen/io/vasp/inputs.py:418\u001b[0m, in \u001b[0;36mPoscar.from_str\u001b[0;34m(cls, data, default_names, read_velocities)\u001b[0m\n\u001b[1;32m    416\u001b[0m tokens \u001b[38;5;241m=\u001b[39m lines[ipos \u001b[38;5;241m+\u001b[39m \u001b[38;5;241m1\u001b[39m \u001b[38;5;241m+\u001b[39m i]\u001b[38;5;241m.\u001b[39msplit()\n\u001b[1;32m    417\u001b[0m crd_scale \u001b[38;5;241m=\u001b[39m scale \u001b[38;5;28;01mif\u001b[39;00m cart \u001b[38;5;28;01melse\u001b[39;00m \u001b[38;5;241m1\u001b[39m\n\u001b[0;32m--> 418\u001b[0m coords\u001b[38;5;241m.\u001b[39mappend([\u001b[38;5;28mfloat\u001b[39m(j) \u001b[38;5;241m*\u001b[39m crd_scale \u001b[38;5;28;01mfor\u001b[39;00m j \u001b[38;5;129;01min\u001b[39;00m tokens[:\u001b[38;5;241m3\u001b[39m]])\n\u001b[1;32m    419\u001b[0m \u001b[38;5;28;01mif\u001b[39;00m selective_dynamics \u001b[38;5;129;01mis\u001b[39;00m \u001b[38;5;129;01mnot\u001b[39;00m \u001b[38;5;28;01mNone\u001b[39;00m:\n\u001b[1;32m    420\u001b[0m     \u001b[38;5;66;03m# Warn when values contain suspicious entries\u001b[39;00m\n\u001b[1;32m    421\u001b[0m     \u001b[38;5;28;01mif\u001b[39;00m \u001b[38;5;28many\u001b[39m(value \u001b[38;5;129;01mnot\u001b[39;00m \u001b[38;5;129;01min\u001b[39;00m {\u001b[38;5;124m\"\u001b[39m\u001b[38;5;124mT\u001b[39m\u001b[38;5;124m\"\u001b[39m, \u001b[38;5;124m\"\u001b[39m\u001b[38;5;124mF\u001b[39m\u001b[38;5;124m\"\u001b[39m} \u001b[38;5;28;01mfor\u001b[39;00m value \u001b[38;5;129;01min\u001b[39;00m tokens[\u001b[38;5;241m3\u001b[39m:\u001b[38;5;241m6\u001b[39m]):\n",
      "File \u001b[0;32m/opt/anaconda3/envs/general/lib/python3.11/site-packages/pymatgen/io/vasp/inputs.py:418\u001b[0m, in \u001b[0;36m<listcomp>\u001b[0;34m(.0)\u001b[0m\n\u001b[1;32m    416\u001b[0m tokens \u001b[38;5;241m=\u001b[39m lines[ipos \u001b[38;5;241m+\u001b[39m \u001b[38;5;241m1\u001b[39m \u001b[38;5;241m+\u001b[39m i]\u001b[38;5;241m.\u001b[39msplit()\n\u001b[1;32m    417\u001b[0m crd_scale \u001b[38;5;241m=\u001b[39m scale \u001b[38;5;28;01mif\u001b[39;00m cart \u001b[38;5;28;01melse\u001b[39;00m \u001b[38;5;241m1\u001b[39m\n\u001b[0;32m--> 418\u001b[0m coords\u001b[38;5;241m.\u001b[39mappend([\u001b[38;5;28mfloat\u001b[39m(j) \u001b[38;5;241m*\u001b[39m crd_scale \u001b[38;5;28;01mfor\u001b[39;00m j \u001b[38;5;129;01min\u001b[39;00m tokens[:\u001b[38;5;241m3\u001b[39m]])\n\u001b[1;32m    419\u001b[0m \u001b[38;5;28;01mif\u001b[39;00m selective_dynamics \u001b[38;5;129;01mis\u001b[39;00m \u001b[38;5;129;01mnot\u001b[39;00m \u001b[38;5;28;01mNone\u001b[39;00m:\n\u001b[1;32m    420\u001b[0m     \u001b[38;5;66;03m# Warn when values contain suspicious entries\u001b[39;00m\n\u001b[1;32m    421\u001b[0m     \u001b[38;5;28;01mif\u001b[39;00m \u001b[38;5;28many\u001b[39m(value \u001b[38;5;129;01mnot\u001b[39;00m \u001b[38;5;129;01min\u001b[39;00m {\u001b[38;5;124m\"\u001b[39m\u001b[38;5;124mT\u001b[39m\u001b[38;5;124m\"\u001b[39m, \u001b[38;5;124m\"\u001b[39m\u001b[38;5;124mF\u001b[39m\u001b[38;5;124m\"\u001b[39m} \u001b[38;5;28;01mfor\u001b[39;00m value \u001b[38;5;129;01min\u001b[39;00m tokens[\u001b[38;5;241m3\u001b[39m:\u001b[38;5;241m6\u001b[39m]):\n",
      "\u001b[0;31mValueError\u001b[0m: could not convert string to float: 'T'"
     ]
    }
   ],
   "source": [
    "min_slab_length = 15\n",
    "x1, x2 = int(ceil(15 / selected_interface.height_1)), int(ceil(15/selected_interface.height_2))\n",
    "selected_interface.sample_CNID(grid = [n1,n2] ,two_D = True, xyz_1 = [x1,1,1], xyz_2 = [x2,1,1], vx=5, dx=5, filename= 'POSCAR', fix_frac=0.33)"
   ]
  }
 ],
 "metadata": {
  "kernelspec": {
   "display_name": "Python 3 (ipykernel)",
   "language": "python",
   "name": "python3"
  },
  "language_info": {
   "codemirror_mode": {
    "name": "ipython",
    "version": 3
   },
   "file_extension": ".py",
   "mimetype": "text/x-python",
   "name": "python",
   "nbconvert_exporter": "python",
   "pygments_lexer": "ipython3",
   "version": "3.11.8"
  }
 },
 "nbformat": 4,
 "nbformat_minor": 5
}
