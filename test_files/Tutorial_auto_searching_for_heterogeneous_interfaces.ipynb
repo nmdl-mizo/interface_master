{
 "cells": [
  {
   "cell_type": "code",
   "execution_count": null,
   "id": "f7f0a78d-c557-4b83-b0c5-cd85f108e13d",
   "metadata": {},
   "outputs": [
    {
     "name": "stdout",
     "output_type": "stream",
     "text": [
      "Collecting git+https://github.com/nmdl-mizo/interface_master.git@develop\n",
      "  Cloning https://github.com/nmdl-mizo/interface_master.git (to revision develop) to /private/var/folders/km/tznxn_d162bgzpqpzp9wcjn00000gn/T/pip-req-build-45avigsg\n",
      "  Running command git clone --filter=blob:none --quiet https://github.com/nmdl-mizo/interface_master.git /private/var/folders/km/tznxn_d162bgzpqpzp9wcjn00000gn/T/pip-req-build-45avigsg\n",
      "^C\n",
      "\u001b[31mERROR: Operation cancelled by user\u001b[0m\u001b[31m\n",
      "\u001b[0m  % Total    % Received % Xferd  Average Speed   Time    Time     Time  Current\n",
      "                                 Dload  Upload   Total   Spent    Left  Speed\n",
      "100  1059  100  1059    0     0   1624      0 --:--:-- --:--:-- --:--:--  1624\n",
      "  % Total    % Received % Xferd  Average Speed   Time    Time     Time  Current\n",
      "                                 Dload  Upload   Total   Spent    Left  Speed\n",
      "  0     0    0     0    0     0      0      0 --:--:-- --:--:-- --:--:--     0"
     ]
    }
   ],
   "source": [
    "!pip install git+https://github.com/nmdl-mizo/interface_master.git@develop\n",
    "!mkdir -p cif_files\n",
    "!curl https://raw.githubusercontent.com/nmdl-mizo/interface_master/develop/test_files/cif_files/Si_mp-149_conventional_standard.cif -o 'cif_files/Si_mp-149_conventional_standard.cif'\n",
    "!curl https://raw.githubusercontent.com/nmdl-mizo/interface_master/develop/test_files/cif_files/ZnO_mp-2133_conventional_standard.cif -o 'cif_files/ZnO_mp-2133_conventional_standard.cif'"
   ]
  },
  {
   "cell_type": "code",
   "execution_count": 13,
   "id": "2db9028f-248b-4f56-97fb-1a08037c0272",
   "metadata": {},
   "outputs": [],
   "source": [
    "from interfacemaster.hetero_searching import hetero_searcher\n",
    "from pymatgen.core.structure import Structure"
   ]
  },
  {
   "cell_type": "code",
   "execution_count": 14,
   "id": "e2722386-617c-46ca-b68c-409eccf3bd62",
   "metadata": {},
   "outputs": [],
   "source": [
    "#input substrate & film information\n",
    "substrate_file, film_file = 'cif_files/Si_mp-149_conventional_standard.cif', \\\n",
    "'cif_files/ZnO_mp-2133_conventional_standard.cif'\n",
    "substrate_structure, film_structure = list(map(lambda x:Structure.from_file(x), [substrate_file, film_file]))\n",
    "substrate_name, film_name = 'Si', 'ZnO'\n",
    "my_searcher = hetero_searcher(substrate_structure, film_structure, substrate_name, film_name)"
   ]
  },
  {
   "cell_type": "markdown",
   "id": "4a97e9f2-cc27-4212-9312-47f48b69600b",
   "metadata": {},
   "source": [
    "Might be time consuming with high index limitation. Recommend to start by 1. "
   ]
  },
  {
   "cell_type": "code",
   "execution_count": 15,
   "id": "295ab62a-9bf1-4adf-a4f9-44cfa239a58c",
   "metadata": {},
   "outputs": [
    {
     "name": "stdout",
     "output_type": "stream",
     "text": [
      "57 non-identical matchings found\n"
     ]
    }
   ],
   "source": [
    "#matching\n",
    "my_searcher.matching(film_max_miller = 1, substrate_max_miller = 1)"
   ]
  },
  {
   "cell_type": "code",
   "execution_count": 16,
   "id": "a7f56e4c-25cc-4b86-81e7-62a729acc23d",
   "metadata": {
    "scrolled": true
   },
   "outputs": [
    {
     "name": "stdout",
     "output_type": "stream",
     "text": [
      "no folder\n",
      "20 interfaces generated, files saved in the dict Si_ZnO_interfaces\n"
     ]
    }
   ],
   "source": [
    "#generating, might consume some time to get rid of simpling scaling cases\n",
    "my_searcher.generating(max_anum = 200, min_slab_length = 15)"
   ]
  },
  {
   "cell_type": "code",
   "execution_count": 17,
   "id": "63690a13-e0fd-44ae-b5f0-2d7b32d5bea9",
   "metadata": {},
   "outputs": [],
   "source": [
    "#write interface_info into json data\n",
    "my_searcher.write_results('interface_info')"
   ]
  },
  {
   "cell_type": "code",
   "execution_count": 18,
   "id": "0869a79a-916d-4892-a072-5672749b559c",
   "metadata": {},
   "outputs": [
    {
     "data": {
      "text/plain": [
       "{'film_prim_hkl': array([0, 0, 1]),\n",
       " 'film_prim_v1': array([2, 0, 0]),\n",
       " 'film_prim_v2': array([ 0, -2,  0]),\n",
       " 'film_conv_hkl': array([0, 0, 1]),\n",
       " 'film_conv_v1': array(['2', '0', '0'], dtype='<U1'),\n",
       " 'film_conv_v2': array(['0', '-2', '0'], dtype='<U2'),\n",
       " 'substrate_prim_hkl': array([1, 1, 1]),\n",
       " 'substrate_prim_v1': array([-2,  1,  1]),\n",
       " 'substrate_prim_v2': array([-1,  2, -1]),\n",
       " 'substrate_conv_hkl': array([-1, -1, -1]),\n",
       " 'substrate_conv_v1': array(['1/2', '1/2', '-1'], dtype='<U3'),\n",
       " 'substrate_conv_v2': array(['-1/2', '1', '-1/2'], dtype='<U4'),\n",
       " 'CSL area': 38.85031,\n",
       " 'strain': array([[ 1.01211998, -0.00605999, -0.00605999],\n",
       "        [-0.00605999,  1.01211998, -0.00605999],\n",
       "        [-0.00605999, -0.00605999,  1.01211998]]),\n",
       " 'atom_num': 78,\n",
       " 'substrate_prim_CNID_express': array([['0', '1/2'],\n",
       "        ['-1/2', '0'],\n",
       "        ['1/2', '-1/2']], dtype='<U4'),\n",
       " 'film_prim_CNID_express': array([['1/3', '-2/3'],\n",
       "        ['2/3', '-1/3'],\n",
       "        ['0', '0']], dtype='<U4'),\n",
       " 'substrate_conv_CNID_express': array([['1/4', '-1/4'],\n",
       "        ['-1/4', '0'],\n",
       "        ['0', '1/4']], dtype='<U4'),\n",
       " 'film_conv_CNID_express': array([['1/3', '-2/3'],\n",
       "        ['2/3', '-1/3'],\n",
       "        ['0', '0']], dtype='<U4'),\n",
       " 'CNID area': 3.2375261966147653}"
      ]
     },
     "execution_count": 18,
     "metadata": {},
     "output_type": "execute_result"
    }
   ],
   "source": [
    "#you can check all the information for this interface\n",
    "my_searcher.res_dict[1]"
   ]
  },
  {
   "cell_type": "markdown",
   "id": "713c21a4-335f-443e-bf3d-1361e7ef6e8b",
   "metadata": {},
   "source": [
    "The searching results provides all the interfaces satsifying your requirement, you can get the interface object by calling its index."
   ]
  },
  {
   "cell_type": "code",
   "execution_count": 19,
   "id": "107d8574-cc40-4fe8-b946-b4b4150c833c",
   "metadata": {},
   "outputs": [],
   "source": [
    "selected_interface = my_searcher.interfaces[1]"
   ]
  },
  {
   "cell_type": "markdown",
   "id": "2584c33d-f9a9-4d4d-b956-c5b5a1c6324d",
   "metadata": {},
   "source": [
    "Then you can customize the interface structure using this selected interface object"
   ]
  },
  {
   "cell_type": "code",
   "execution_count": 20,
   "id": "ee1fa70b-df86-49fb-8fe1-a353b3bfc17d",
   "metadata": {},
   "outputs": [
    {
     "name": "stdout",
     "output_type": "stream",
     "text": [
      "Help on method get_bicrystal in module interfacemaster.interface_generator:\n",
      "\n",
      "get_bicrystal(dydz=None, dx=0, dp1=0, dp2=0, xyz_1=None, xyz_2=None, vx=0, filename='POSCAR', two_D=False, filetype='VASP', mirror=False, KTI=False) method of interfacemaster.interface_generator.core instance\n",
      "    generate a cif file for the bicrystal structure\n",
      "    \n",
      "    Parameters\n",
      "    ----------\n",
      "    dydz : numpy array\n",
      "        translation vector in the interface\n",
      "    dx : float\n",
      "        translation normal to the interface\n",
      "    dp1, dp2 : float\n",
      "        termination of slab 1, 2\n",
      "    xyz1, xyz2 : list\n",
      "        expansion of slab 1, 2\n",
      "    vx : float\n",
      "        vacuum spacing, default 0\n",
      "    filename : str\n",
      "        filename, default 'POSCAR'\n",
      "    two_D : bool\n",
      "        whether a two CSL\n",
      "    filetype : str\n",
      "        filetype, 'VASP' or 'LAMMPS', default 'VASP'\n",
      "    mirror : bool\n",
      "        mirror, default False\n",
      "    KTI : bool\n",
      "        KTI, default False\n",
      "\n"
     ]
    }
   ],
   "source": [
    "help(selected_interface.get_bicrystal)"
   ]
  },
  {
   "cell_type": "code",
   "execution_count": 21,
   "id": "71e39334-3127-4898-98ce-2ac58805bedc",
   "metadata": {},
   "outputs": [],
   "source": [
    "#e.g increase interface displacing\n",
    "from numpy import ceil\n",
    "min_slab_length = 15\n",
    "x1, x2 = int(ceil(15 / selected_interface.height_1)), int(ceil(15/selected_interface.height_2))\n",
    "selected_interface.get_bicrystal(two_D = True, xyz_1 = [x1,1,1], xyz_2 = [x2,1,1], vx=5, dx=2, filename= 'POSCAR')"
   ]
  },
  {
   "cell_type": "markdown",
   "id": "3b63349d-1674-4d9b-8e84-15ca140bc75e",
   "metadata": {},
   "source": [
    "#Do high-throughput searching by displacing in CNID, prepare a INCAR & POTCAR file here :D\n",
    "\n",
    "This will generate a series of VASP inputs folders\n",
    "\n"
   ]
  },
  {
   "cell_type": "code",
   "execution_count": 24,
   "id": "ba257d1d-ac00-42a5-bccc-9aa0641263bd",
   "metadata": {},
   "outputs": [
    {
     "name": "stdout",
     "output_type": "stream",
     "text": [
      "CNID searching grid:\n",
      "2 2\n"
     ]
    }
   ],
   "source": [
    "from numpy.linalg import norm\n",
    "grid_dense = 1\n",
    "n1 = int(ceil(norm(selected_interface.CNID[:,0])))\n",
    "n2 = int(ceil(norm(selected_interface.CNID[:,1])))\n",
    "print('CNID searching grid:')\n",
    "print(n1, n2)"
   ]
  },
  {
   "cell_type": "code",
   "execution_count": 25,
   "id": "ce4505a9-35b0-4c50-87b0-13e070158a19",
   "metadata": {},
   "outputs": [
    {
     "name": "stdout",
     "output_type": "stream",
     "text": [
      "left bound: 0.1323297942146924\n",
      "right bound: 0.7554828071862597\n",
      "INCAR or POTCAR not found, please check\n",
      "left bound: 0.1323297942146924\n",
      "right bound: 0.7554828071862597\n",
      "INCAR or POTCAR not found, please check\n",
      "left bound: 0.1323297942146924\n",
      "right bound: 0.7554828071862597\n",
      "INCAR or POTCAR not found, please check\n",
      "left bound: 0.1323297942146924\n",
      "right bound: 0.7554828071862597\n",
      "INCAR or POTCAR not found, please check\n"
     ]
    }
   ],
   "source": [
    "# you can specify how many of atoms to be fixed at the two ending surface,\n",
    "# here 33% of atoms at the ends will be fixed\n",
    "min_slab_length = 15\n",
    "x1, x2 = int(ceil(15 / selected_interface.height_1)), int(ceil(15/selected_interface.height_2))\n",
    "selected_interface.sample_CNID(grid = [n1,n2] ,two_D = True, xyz_1 = [x1,1,1], xyz_2 = [x2,1,1], vx=5, dx=0, filename= 'POSCAR', fix_frac=0.33)"
   ]
  }
 ],
 "metadata": {
  "kernelspec": {
   "display_name": "Python 3 (ipykernel)",
   "language": "python",
   "name": "python3"
  },
  "language_info": {
   "codemirror_mode": {
    "name": "ipython",
    "version": 3
   },
   "file_extension": ".py",
   "mimetype": "text/x-python",
   "name": "python",
   "nbconvert_exporter": "python",
   "pygments_lexer": "ipython3",
   "version": "3.11.8"
  }
 },
 "nbformat": 4,
 "nbformat_minor": 5
}
