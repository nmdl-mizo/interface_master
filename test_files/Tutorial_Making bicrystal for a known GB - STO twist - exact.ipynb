{
 "cells": [
  {
   "cell_type": "markdown",
   "metadata": {},
   "source": [
    "# STO twist"
   ]
  },
  {
   "cell_type": "code",
   "execution_count": 1,
   "metadata": {},
   "outputs": [
    {
     "name": "stderr",
     "output_type": "stream",
     "text": [
      "/Users/jasonxie/.local/lib/python3.8/site-packages/scipy/__init__.py:138: UserWarning: A NumPy version >=1.16.5 and <1.23.0 is required for this version of SciPy (detected version 1.24.3)\n",
      "  warnings.warn(f\"A NumPy version >={np_minversion} and <{np_maxversion} is required for this version of \"\n"
     ]
    }
   ],
   "source": [
    "from interfacemaster.cellcalc import get_primitive_hkl, rot\n",
    "from interfacemaster.interface_generator import core, convert_vector_index\n",
    "from numpy import array, dot, round, var, average, pi\n",
    "from numpy.linalg import inv, norm\n",
    "from gb_code.csl_generator import print_list"
   ]
  },
  {
   "cell_type": "markdown",
   "metadata": {},
   "source": [
    "## Define an interface core class"
   ]
  },
  {
   "cell_type": "markdown",
   "metadata": {},
   "source": [
    "Input two cif files.For GBs, input the same file; for interfaces, input two different files.\n",
    "\n",
    "\n",
    "The first structure is non-changed while the second one can be deformed to form an approximate CSL\n",
    "\n",
    "Please input files of CONVENTIONAL cells if you are not familiar with the indices in the primitive cell."
   ]
  },
  {
   "cell_type": "code",
   "execution_count": 2,
   "metadata": {},
   "outputs": [
    {
     "name": "stdout",
     "output_type": "stream",
     "text": [
      "Warning!, this programme will rewrite the POSCAR file in this dir!\n"
     ]
    }
   ],
   "source": [
    "my_interface = core('cif_files/SrTiO3.cif','cif_files/SrTiO3.cif')"
   ]
  },
  {
   "cell_type": "markdown",
   "metadata": {},
   "source": [
    "## Specify the rotation axis and searching parameters to find an approximate CSL"
   ]
  },
  {
   "cell_type": "markdown",
   "metadata": {},
   "source": [
    "Since this is for a cubic lattice, we have determined rotation axis/angle to give a specific CSL"
   ]
  },
  {
   "cell_type": "code",
   "execution_count": 3,
   "metadata": {},
   "outputs": [
    {
     "name": "stdout",
     "output_type": "stream",
     "text": [
      "Sigma:     1  Theta:   0.00 \n",
      "Sigma:     5  Theta:  36.87 \n",
      "Sigma:    13  Theta:  22.62 \n",
      "Sigma:    17  Theta:  28.07 \n",
      "Sigma:    25  Theta:  16.26 \n",
      "Sigma:    29  Theta:  43.60 \n",
      "Sigma:    37  Theta:  18.92 \n",
      "Sigma:    41  Theta:  12.68 \n",
      "Sigma:    53  Theta:  31.89 \n",
      "Sigma:    61  Theta:  10.39 \n",
      "Sigma:    65  Theta:  14.25 \n",
      "Sigma:    73  Theta:  41.11 \n",
      "Sigma:    85  Theta:   8.80 \n",
      "Sigma:    89  Theta:  25.99 \n",
      "Sigma:    97  Theta:  42.08 \n"
     ]
    }
   ],
   "source": [
    "print_list([0,0,1],100)"
   ]
  },
  {
   "cell_type": "code",
   "execution_count": 4,
   "metadata": {},
   "outputs": [],
   "source": [
    "#rotation matrix\n",
    "R = rot([0,0,1],10.39/180*pi)"
   ]
  },
  {
   "cell_type": "code",
   "execution_count": 5,
   "metadata": {},
   "outputs": [
    {
     "name": "stdout",
     "output_type": "stream",
     "text": [
      "Congrates, we found an appx CSL!\n",
      "\n",
      "U1 = \n",
      "[[ 0  5  6]\n",
      " [ 0 -6  5]\n",
      " [ 1  0  0]]; sigma_1 = 61\n",
      "\n",
      "U2 = \n",
      "[[ 0  6  5]\n",
      " [ 0 -5  6]\n",
      " [ 1  0  0]]; sigma_2 = 61\n",
      "\n",
      "D = \n",
      "[[1. 0. 0.]\n",
      " [0. 1. 0.]\n",
      " [0. 0. 1.]]\n",
      "\n",
      "\n"
     ]
    }
   ],
   "source": [
    "#take this as an 'exact' CSL\n",
    "my_interface.search_fixed(R, exact = True, tol = 1e-3)"
   ]
  },
  {
   "cell_type": "markdown",
   "metadata": {},
   "source": [
    "'U1', 'U2' are two sets of indices of the CSL in the two crystals' frames,\n",
    "'D' is the deformation applied to the crystal 2 to form an approximate CSL\n",
    "\n",
    "As you can see, no strain is applied to any crystal for this exact CSL"
   ]
  },
  {
   "cell_type": "markdown",
   "metadata": {},
   "source": [
    "## Convert the miller indices to be expressed in the primitive cell"
   ]
  },
  {
   "cell_type": "markdown",
   "metadata": {},
   "source": [
    "Now we need to specify the orientation of our interface, which is by giving a miller indices in expressed in the primitive cell."
   ]
  },
  {
   "cell_type": "code",
   "execution_count": 6,
   "metadata": {},
   "outputs": [
    {
     "data": {
      "text/plain": [
       "array([ 0,  0, -1])"
      ]
     },
     "execution_count": 6,
     "metadata": {},
     "output_type": "execute_result"
    }
   ],
   "source": [
    "\"\"\"\n",
    "The interface plane is the [1,0,0] plane in the conventional cell and now we \\\n",
    "transform it into primitive cell\n",
    "\"\"\"\n",
    "hkl = get_primitive_hkl(array([0,0,1]), my_interface.conv_lattice_1, my_interface.lattice_1)\n",
    "hkl"
   ]
  },
  {
   "cell_type": "markdown",
   "metadata": {},
   "source": [
    "## Compute the indices of the two slabs to make bicrystal"
   ]
  },
  {
   "cell_type": "markdown",
   "metadata": {},
   "source": [
    "Now let's compute the indices of the two slabs forming the interface\n",
    "If you want a near orthogonal bicrystal, please set 'orthogonal to yes, \n",
    "and adjust the lim & tol."
   ]
  },
  {
   "cell_type": "code",
   "execution_count": 7,
   "metadata": {},
   "outputs": [
    {
     "name": "stdout",
     "output_type": "stream",
     "text": [
      "hkl in CSL: [-1  0  0]\n",
      "cell 1:\n",
      "[[ 0  5 -6]\n",
      " [ 0 -6 -5]\n",
      " [-1  0  0]]\n",
      "cell 2:\n",
      "[[ 0  6 -5]\n",
      " [ 0 -5 -6]\n",
      " [-1  0  0]]\n"
     ]
    }
   ],
   "source": [
    "my_interface.compute_bicrystal(hkl, normal_ortho = True, plane_ortho = True, lim = 50, tol_ortho = 1e-3, tol_integer = 1e-3)"
   ]
  },
  {
   "cell_type": "markdown",
   "metadata": {},
   "source": [
    "Here we obtained the two sets of indices to build a bicrystal"
   ]
  },
  {
   "cell_type": "markdown",
   "metadata": {},
   "source": [
    "## Make a bicrystal!"
   ]
  },
  {
   "cell_type": "markdown",
   "metadata": {},
   "source": [
    "You can adjust the bicrystal by\n",
    "1. do expansion by set 'xyz' = [dimX, dimY, dimZ]\n",
    "2. do RBT by 'dzdy' = a translation vector \n",
    "(please confine dzdy in the interface plane, \n",
    "for RBT in the normal, please use 'dp1' and 'dp2', to make vacuum in the interface use 'dx');\n",
    "3. introduce vacuum in the interface by 'dx' = the distance spacing the two crystals\n",
    "4. adjust the termination by 'dp1', 'dp2' = length of shift of the position of \n",
    "the termination from the interface into the bulk\n",
    "5. introduce vacuum to make a surface in the end of the bicrystal by\n",
    "'vx' = length of the vaccumn\n",
    "\n",
    "default: xyz = [1,1,1] and others = 0"
   ]
  },
  {
   "cell_type": "code",
   "execution_count": 10,
   "metadata": {},
   "outputs": [],
   "source": [
    "my_interface.get_bicrystal(xyz_1 = [10,1,1], xyz_2 = [2,1,1], filetype='VASP', dp1 = 0, dp2 = 0)"
   ]
  },
  {
   "cell_type": "markdown",
   "metadata": {},
   "source": [
    "Good! You have made a 'POSCAR' file of this bicrystal, we also generated two files named 'cell_1.cif' and 'cell_2.cif' providing the structure of the two slabs."
   ]
  },
  {
   "cell_type": "code",
   "execution_count": 11,
   "metadata": {},
   "outputs": [
    {
     "name": "stdout",
     "output_type": "stream",
     "text": [
      "CNID\n",
      "[[-0.  1.]\n",
      " [ 1. -0.]\n",
      " [-1. -1.]]\n",
      "making 16 files...\n",
      "completed\n"
     ]
    }
   ],
   "source": [
    "import shutil\n",
    "try:\n",
    "    shutil.rmtree('CNID_inputs')\n",
    "except:\n",
    "    print('No existing files')\n",
    "#To sample the CNID, try\n",
    "my_interface.sample_CNID(grid = [4,4], xyz_1 = [1,1,1], xyz_2 = [1,1,1])"
   ]
  },
  {
   "cell_type": "markdown",
   "metadata": {},
   "source": [
    "Please check the generated 'POSCAR.x.y' files. \n",
    "The CNID here is expressed in the primitive cell's frame.\n",
    "You can refer to the cartesian coordinates or in the conventional cell's frame"
   ]
  },
  {
   "cell_type": "code",
   "execution_count": 12,
   "metadata": {},
   "outputs": [
    {
     "data": {
      "text/plain": [
       "array([[-2.734364, -2.734364],\n",
       "       [ 2.734364,  0.      ],\n",
       "       [ 0.      ,  2.734364]])"
      ]
     },
     "execution_count": 12,
     "metadata": {},
     "output_type": "execute_result"
    }
   ],
   "source": [
    "CNID_cartesian = round(my_interface.CNID,8)\n",
    "CNID_cartesian"
   ]
  },
  {
   "cell_type": "code",
   "execution_count": 13,
   "metadata": {},
   "outputs": [
    {
     "data": {
      "text/plain": [
       "array([[-0.5, -0.5],\n",
       "       [ 0.5,  0. ],\n",
       "       [-0. ,  0.5]])"
      ]
     },
     "execution_count": 13,
     "metadata": {},
     "output_type": "execute_result"
    }
   ],
   "source": [
    "CNID_conv = round(dot(inv(my_interface.conv_lattice_1)\\\n",
    "                              , my_interface.CNID),8)\n",
    "CNID_conv"
   ]
  }
 ],
 "metadata": {
  "kernelspec": {
   "display_name": "Python 3",
   "language": "python",
   "name": "python3"
  },
  "language_info": {
   "codemirror_mode": {
    "name": "ipython",
    "version": 3
   },
   "file_extension": ".py",
   "mimetype": "text/x-python",
   "name": "python",
   "nbconvert_exporter": "python",
   "pygments_lexer": "ipython3",
   "version": "3.8.3"
  }
 },
 "nbformat": 4,
 "nbformat_minor": 4
}
