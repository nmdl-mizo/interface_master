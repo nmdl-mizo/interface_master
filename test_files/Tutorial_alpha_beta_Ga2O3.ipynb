{
 "cells": [
  {
   "cell_type": "markdown",
   "metadata": {},
   "source": [
    "# LCO/LPO"
   ]
  },
  {
   "cell_type": "code",
   "execution_count": 93,
   "metadata": {},
   "outputs": [],
   "source": [
    "from interfacemaster.cellcalc import get_primitive_hkl, get_pri_vec_inplane, get_normal_index, get_normal_from_MI, rot, MID\n",
    "from interfacemaster.interface_generator import core, convert_vector_index, get_disorientation\n",
    "from numpy import array, dot, round, cross, eye, pi\n",
    "from numpy.linalg import inv, det, norm"
   ]
  },
  {
   "cell_type": "code",
   "execution_count": 86,
   "metadata": {},
   "outputs": [],
   "source": [
    "from pymatgen.core.structure import Structure"
   ]
  },
  {
   "cell_type": "code",
   "execution_count": 119,
   "metadata": {},
   "outputs": [
    {
     "name": "stdout",
     "output_type": "stream",
     "text": [
      "Warning!, this programme will rewrite the POSCAR file in this dir!\n"
     ]
    }
   ],
   "source": [
    "my_interface = core('cif_files/beta/CONTCAR',\\\n",
    "                    'cif_files/beta/CONTCAR')"
   ]
  },
  {
   "cell_type": "code",
   "execution_count": 120,
   "metadata": {},
   "outputs": [
    {
     "data": {
      "text/plain": [
       "array([[ 3.10413533e-08,  3.09981602e+00, -2.60876841e-08],\n",
       "       [ 1.25126373e+01,  7.74478610e-09, -1.40914748e+00],\n",
       "       [-2.50500860e-03,  1.21877777e-08, -5.74305976e+00]])"
      ]
     },
     "execution_count": 120,
     "metadata": {},
     "output_type": "execute_result"
    }
   ],
   "source": [
    "my_interface.conv_lattice_1"
   ]
  },
  {
   "cell_type": "code",
   "execution_count": 121,
   "metadata": {},
   "outputs": [],
   "source": [
    "v = get_normal_from_MI(lattice=my_interface.conv_lattice_1, hkl=[1,0,0])"
   ]
  },
  {
   "cell_type": "code",
   "execution_count": 122,
   "metadata": {},
   "outputs": [
    {
     "data": {
      "text/plain": [
       "array([-2.73043932e-08,  1.78024287e+01, -4.36809795e+00])"
      ]
     },
     "execution_count": 122,
     "metadata": {},
     "output_type": "execute_result"
    }
   ],
   "source": [
    "axis = convert_vector_index(my_interface.conv_lattice_1, my_interface.lattice_1, v)\n",
    "axis"
   ]
  },
  {
   "cell_type": "code",
   "execution_count": 123,
   "metadata": {},
   "outputs": [],
   "source": [
    "#rotation matrix\n",
    "R = rot(v,180/180*pi)"
   ]
  },
  {
   "cell_type": "code",
   "execution_count": 124,
   "metadata": {},
   "outputs": [
    {
     "name": "stdout",
     "output_type": "stream",
     "text": [
      "Congrates, we found an appx CSL!\n",
      "\n",
      "U1 = \n",
      "[[ 0  0  1]\n",
      " [-1  0  0]\n",
      " [ 0 -1  1]]; sigma_1 = 1\n",
      "\n",
      "U2 = \n",
      "[[0 0 1]\n",
      " [1 0 0]\n",
      " [0 1 0]]; sigma_2 = 1\n",
      "\n",
      "D = \n",
      "[[1. 0. 0.]\n",
      " [0. 1. 0.]\n",
      " [0. 0. 1.]]\n",
      "\n",
      "\n"
     ]
    }
   ],
   "source": [
    "my_interface.parse_limit(du = 0.01, S  = 0.01, sgm1=20, sgm2=20, dd = 0.01)\n",
    "\n",
    "#Do searching!\n",
    "#We already know that there is a CSL by rotation 180 degrees\n",
    "my_interface.search_fixed(R = R,exact=True)"
   ]
  },
  {
   "cell_type": "code",
   "execution_count": 105,
   "metadata": {},
   "outputs": [],
   "source": [
    "cell_1 = dot(my_interface.lattice_1, my_interface.bicrystal_U1)"
   ]
  },
  {
   "cell_type": "code",
   "execution_count": 106,
   "metadata": {},
   "outputs": [],
   "source": [
    "cell_2 = dot(my_interface.lattice_1, my_interface.bicrystal_U2)"
   ]
  },
  {
   "cell_type": "code",
   "execution_count": 125,
   "metadata": {},
   "outputs": [
    {
     "data": {
      "text/plain": [
       "array([0, 0, 1])"
      ]
     },
     "execution_count": 125,
     "metadata": {},
     "output_type": "execute_result"
    }
   ],
   "source": [
    "hkl = get_primitive_hkl(hkl=[0,0,1],C_lattice=my_interface.conv_lattice_1,P_lattice=my_interface.lattice_1)\n",
    "hkl"
   ]
  },
  {
   "cell_type": "code",
   "execution_count": 134,
   "metadata": {},
   "outputs": [],
   "source": [
    "z = array([-5.9585793637, 7.20003761e-08, 24.3055493118])"
   ]
  },
  {
   "cell_type": "code",
   "execution_count": 135,
   "metadata": {},
   "outputs": [
    {
     "data": {
      "text/plain": [
       "35.02527513099213"
      ]
     },
     "execution_count": 135,
     "metadata": {},
     "output_type": "execute_result"
    }
   ],
   "source": [
    "norm(z) + 10"
   ]
  },
  {
   "cell_type": "code",
   "execution_count": 136,
   "metadata": {},
   "outputs": [
    {
     "data": {
      "text/plain": [
       "array([-8.33960388e+00,  1.00771439e-07,  3.40179497e+01])"
      ]
     },
     "execution_count": 136,
     "metadata": {},
     "output_type": "execute_result"
    }
   ],
   "source": [
    "35.02527513099213/norm(z) * z"
   ]
  },
  {
   "cell_type": "code",
   "execution_count": 126,
   "metadata": {},
   "outputs": [
    {
     "data": {
      "text/plain": [
       "array([0, 0, 1])"
      ]
     },
     "execution_count": 126,
     "metadata": {},
     "output_type": "execute_result"
    }
   ],
   "source": [
    "hkl"
   ]
  },
  {
   "cell_type": "markdown",
   "metadata": {},
   "source": [
    "## Get bicrystal"
   ]
  },
  {
   "cell_type": "code",
   "execution_count": 127,
   "metadata": {},
   "outputs": [
    {
     "name": "stdout",
     "output_type": "stream",
     "text": [
      "hkl in CSL: [ 0 -1  1]\n",
      "cell 1:\n",
      "[[ 0  0 -1]\n",
      " [ 0 -1  0]\n",
      " [-1  0  0]]\n",
      "cell 2:\n",
      "[[ 0  0 -1]\n",
      " [ 0  1  0]\n",
      " [ 1  0 -1]]\n"
     ]
    }
   ],
   "source": [
    "my_interface.compute_bicrystal(hkl=hkl, normal_ortho = False, lim = 50, tol_ortho = 1e-3, tol_integer=1e-3)"
   ]
  },
  {
   "cell_type": "code",
   "execution_count": 133,
   "metadata": {},
   "outputs": [],
   "source": [
    "my_interface.get_bicrystal(xyz_1 = [3,2,2], xyz_2 = [3,2,2], dp1 = 0, dp2 = 0, dx = 0, vx=0)"
   ]
  },
  {
   "cell_type": "code",
   "execution_count": 16,
   "metadata": {},
   "outputs": [
    {
     "data": {
      "text/plain": [
       "3.0998160237290167"
      ]
     },
     "execution_count": 16,
     "metadata": {},
     "output_type": "execute_result"
    }
   ],
   "source": [
    "norm(my_interface.CNID[:,0])"
   ]
  },
  {
   "cell_type": "code",
   "execution_count": 18,
   "metadata": {},
   "outputs": [
    {
     "data": {
      "text/plain": [
       "5.715762230300908"
      ]
     },
     "execution_count": 18,
     "metadata": {},
     "output_type": "execute_result"
    }
   ],
   "source": [
    "norm(my_interface.CNID[:,1])"
   ]
  },
  {
   "cell_type": "code",
   "execution_count": 20,
   "metadata": {},
   "outputs": [
    {
     "name": "stdout",
     "output_type": "stream",
     "text": [
      "CNID\n",
      "[[ 0.          1.33333333]\n",
      " [-1.          0.66666667]\n",
      " [ 0.         -0.33333333]]\n",
      "making 18 files...\n",
      "completed\n"
     ]
    }
   ],
   "source": [
    "#To sample the CNID, try\n",
    "my_interface.sample_CNID(grid = [3,6], xyz_1 = [x1,1,1], xyz_2 = [x2,1,1], dp1 = 0.1, dp2 = 0, dx = -0.5, vx=0.8)"
   ]
  },
  {
   "cell_type": "code",
   "execution_count": 133,
   "metadata": {},
   "outputs": [],
   "source": [
    "right_1 = array([24.7867897178, 0.9095271859, 13.7594486662])\n",
    "right_2 = array([37.0678811529, 2.3316922917, 15.2692225735])"
   ]
  },
  {
   "cell_type": "code",
   "execution_count": 134,
   "metadata": {},
   "outputs": [
    {
     "name": "stdout",
     "output_type": "stream",
     "text": [
      "1.6206097388 14.514335619850002\n"
     ]
    }
   ],
   "source": [
    "middle = ((right_1 + right_2)/2)[1:3]\n",
    "r_m_y, r_m_z = middle\n",
    "print(r_m_y, r_m_z)"
   ]
  },
  {
   "cell_type": "code",
   "execution_count": 135,
   "metadata": {},
   "outputs": [],
   "source": [
    "left_1 = array([22.2413190086999997, 1.4243551294000001, 12.8611351063000008])"
   ]
  },
  {
   "cell_type": "code",
   "execution_count": 136,
   "metadata": {},
   "outputs": [],
   "source": [
    "left_2 = array([12.1592408800000005, 2.8491354397999999, 11.4306350467000009])"
   ]
  },
  {
   "cell_type": "code",
   "execution_count": 137,
   "metadata": {},
   "outputs": [],
   "source": [
    "middle = ((left_1 + left_2)/2)[1:3]\n",
    "l_m_y, l_m_z = middle"
   ]
  },
  {
   "cell_type": "code",
   "execution_count": 138,
   "metadata": {},
   "outputs": [
    {
     "name": "stdout",
     "output_type": "stream",
     "text": [
      "2.1367452846 12.1458850765\n"
     ]
    }
   ],
   "source": [
    "print(l_m_y, l_m_z)"
   ]
  },
  {
   "cell_type": "code",
   "execution_count": 139,
   "metadata": {},
   "outputs": [],
   "source": [
    "dsp = array([0, l_m_y - r_m_y, l_m_z - r_m_z])"
   ]
  },
  {
   "cell_type": "code",
   "execution_count": 140,
   "metadata": {},
   "outputs": [
    {
     "data": {
      "text/plain": [
       "array([ 0.        ,  0.51613555, -2.36845054])"
      ]
     },
     "execution_count": 140,
     "metadata": {},
     "output_type": "execute_result"
    }
   ],
   "source": [
    "dsp"
   ]
  },
  {
   "cell_type": "code",
   "execution_count": 141,
   "metadata": {},
   "outputs": [],
   "source": [
    "with open('lmp.dat','r') as f:\n",
    "    lines = f.readlines()\n",
    "    xhi = float(lines[3].split()[1])\n",
    "    yhi = float(lines[4].split()[1])\n",
    "    zhi = float(lines[5].split()[1])\n",
    "    xy = float(lines[6].split()[0])\n",
    "    xz = float(lines[6].split()[1])\n",
    "    yz = float(lines[6].split()[2])"
   ]
  },
  {
   "cell_type": "code",
   "execution_count": 142,
   "metadata": {},
   "outputs": [],
   "source": [
    "atoms = loadtxt('lmp.dat', skiprows=10)"
   ]
  },
  {
   "cell_type": "code",
   "execution_count": 143,
   "metadata": {},
   "outputs": [],
   "source": [
    "ids = atoms[:,0]\n",
    "types = atoms[:,1]\n",
    "atoms = atoms[:,2:5]"
   ]
  },
  {
   "cell_type": "code",
   "execution_count": 144,
   "metadata": {},
   "outputs": [],
   "source": [
    "atoms[atoms[:,0] > 23] += dsp"
   ]
  },
  {
   "cell_type": "code",
   "execution_count": 145,
   "metadata": {},
   "outputs": [],
   "source": [
    "with open('lmp_dsp.dat','w') as f:\n",
    "    f.write('#Head \\n')\n",
    "    f.write('{} atoms \\n'.format(len(atoms)))\n",
    "    f.write('4 atom types \\n')\n",
    "    f.write(f'0 {xhi} xlo xhi \\n')\n",
    "    f.write(f'0 {yhi} ylo yhi \\n')\n",
    "    f.write(f'0 {zhi} zlo zhi \\n')\n",
    "    f.write(f'{xy} {xz} {yz} xy xz yz \\n\\n')\n",
    "    f.write('Atoms # atomic\\n\\n')\n",
    "    FinalMat = column_stack((ids, types, atoms))\n",
    "    savetxt(f, FinalMat, fmt='%i %i %.16f %.16f %.16f')\n",
    "            \n",
    "            "
   ]
  },
  {
   "cell_type": "code",
   "execution_count": 146,
   "metadata": {},
   "outputs": [],
   "source": [
    "left_b = 12.0525\n",
    "cell_min = 12"
   ]
  },
  {
   "cell_type": "code",
   "execution_count": 147,
   "metadata": {},
   "outputs": [],
   "source": [
    "left_max = 22.3482\n",
    "right_min = 24.3096\n",
    "right_max = 37.5451"
   ]
  },
  {
   "cell_type": "code",
   "execution_count": 148,
   "metadata": {},
   "outputs": [],
   "source": [
    "right_b = right_max + (right_min - left_max) - (left_b - cell_min)"
   ]
  },
  {
   "cell_type": "code",
   "execution_count": 149,
   "metadata": {},
   "outputs": [
    {
     "data": {
      "text/plain": [
       "39.454"
      ]
     },
     "execution_count": 149,
     "metadata": {},
     "output_type": "execute_result"
    }
   ],
   "source": [
    "right_b"
   ]
  },
  {
   "cell_type": "code",
   "execution_count": null,
   "metadata": {},
   "outputs": [],
   "source": []
  },
  {
   "cell_type": "code",
   "execution_count": null,
   "metadata": {},
   "outputs": [],
   "source": []
  }
 ],
 "metadata": {
  "kernelspec": {
   "display_name": "Python 3",
   "language": "python",
   "name": "python3"
  },
  "language_info": {
   "codemirror_mode": {
    "name": "ipython",
    "version": 3
   },
   "file_extension": ".py",
   "mimetype": "text/x-python",
   "name": "python",
   "nbconvert_exporter": "python",
   "pygments_lexer": "ipython3",
   "version": "3.8.3"
  }
 },
 "nbformat": 4,
 "nbformat_minor": 4
}
