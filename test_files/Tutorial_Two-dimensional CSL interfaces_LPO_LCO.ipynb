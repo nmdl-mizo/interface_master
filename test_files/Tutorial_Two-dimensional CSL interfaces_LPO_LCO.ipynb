{
 "cells": [
  {
   "cell_type": "markdown",
   "metadata": {},
   "source": [
    "# LCO/LPO"
   ]
  },
  {
   "cell_type": "code",
   "execution_count": 1,
   "metadata": {},
   "outputs": [
    {
     "name": "stderr",
     "output_type": "stream",
     "text": [
      "/Users/jasonxie/.local/lib/python3.8/site-packages/scipy/__init__.py:138: UserWarning: A NumPy version >=1.16.5 and <1.23.0 is required for this version of SciPy (detected version 1.24.3)\n",
      "  warnings.warn(f\"A NumPy version >={np_minversion} and <{np_maxversion} is required for this version of \"\n"
     ]
    }
   ],
   "source": [
    "from interfacemaster.cellcalc import get_primitive_hkl, get_pri_vec_inplane, get_normal_index, get_normal_from_MI, rot\n",
    "from interfacemaster.interface_generator import core, convert_vector_index, get_disorientation\n",
    "from numpy import array, dot, round, cross, eye\n",
    "from numpy.linalg import inv, det, norm"
   ]
  },
  {
   "cell_type": "code",
   "execution_count": 2,
   "metadata": {},
   "outputs": [],
   "source": [
    "from pymatgen.core.structure import Structure"
   ]
  },
  {
   "cell_type": "code",
   "execution_count": 3,
   "metadata": {},
   "outputs": [
    {
     "name": "stdout",
     "output_type": "stream",
     "text": [
      "Warning!, this programme will rewrite the POSCAR file in this dir!\n"
     ]
    }
   ],
   "source": [
    "my_interface = core('cif_files/LCO/CONTCAR',\\\n",
    "                    'cif_files/LPO_2/CONTCAR')"
   ]
  },
  {
   "cell_type": "code",
   "execution_count": 4,
   "metadata": {},
   "outputs": [
    {
     "data": {
      "text/plain": [
       "array([[-5.00025777e-01, -4.98503885e-01,  7.08144123e-01],\n",
       "       [ 8.66010521e-01, -2.87828435e-01,  4.08877206e-01],\n",
       "       [-2.86161570e-06,  8.17709403e-01,  5.75631246e-01]])"
      ]
     },
     "execution_count": 4,
     "metadata": {},
     "output_type": "execute_result"
    }
   ],
   "source": [
    "#target disorientation\n",
    "R = get_disorientation(L1 = my_interface.conv_lattice_1, L2 = my_interface.conv_lattice_2, \\\n",
    "                       v1 = [0,1,0], hkl1 = [1, 0, 4], \\\n",
    "                       v2 = [1,0,0], hkl2 = [0, 0, 1])\n",
    "R"
   ]
  },
  {
   "cell_type": "code",
   "execution_count": 27,
   "metadata": {},
   "outputs": [
    {
     "data": {
      "text/plain": [
       "array([[ 0.28686334, -0.70586832, -0.6476568 ],\n",
       "       [-0.55396209,  0.42934272, -0.71329575],\n",
       "       [ 0.78155961,  0.56339572, -0.2678616 ]])"
      ]
     },
     "execution_count": 27,
     "metadata": {},
     "output_type": "execute_result"
    }
   ],
   "source": [
    "#target disorientation\n",
    "R = get_disorientation(L1 = my_interface.conv_lattice_1, L2 = my_interface.conv_lattice_2, \\\n",
    "                       v1 = [0,1,0], hkl1 = [1, 0, 4], \\\n",
    "                       v2 = [-1.,  2., -1.], hkl2 = [-1, 0, 1])\n",
    "R"
   ]
  },
  {
   "cell_type": "code",
   "execution_count": 5,
   "metadata": {},
   "outputs": [],
   "source": [
    "#combining two specified surfaces\n",
    "hkl_1 = get_primitive_hkl([1, 0, 4], my_interface.conv_lattice_1, my_interface.lattice_1)\n",
    "hkl_2 = get_primitive_hkl([0, 0, 1], my_interface.conv_lattice_2, my_interface.lattice_2)"
   ]
  },
  {
   "cell_type": "markdown",
   "metadata": {},
   "source": [
    "## Searching two_dimensional CSL"
   ]
  },
  {
   "cell_type": "code",
   "execution_count": 6,
   "metadata": {},
   "outputs": [
    {
     "name": "stdout",
     "output_type": "stream",
     "text": [
      "Help on method search_fixed in module interfacemaster.interface_generator:\n",
      "\n",
      "search_fixed(R, exact=False, tol=1e-08) method of interfacemaster.interface_generator.core instance\n",
      "    main loop finding the appx CSL\n",
      "    \n",
      "    Parameters\n",
      "    ----------\n",
      "    axis : numpy array\n",
      "        rotation axis\n",
      "    theta : float\n",
      "        initial rotation angle, in degree\n",
      "    theta_range : float\n",
      "        range varying theta, in degree\n",
      "    dtheta : float\n",
      "        step varying theta, in degree\n",
      "\n"
     ]
    }
   ],
   "source": [
    "help(my_interface.search_fixed)"
   ]
  },
  {
   "cell_type": "code",
   "execution_count": 33,
   "metadata": {},
   "outputs": [
    {
     "name": "stdout",
     "output_type": "stream",
     "text": [
      "Congrates, we found an appx CSL!\n",
      "\n",
      "U1 = \n",
      "[[ 4  0]\n",
      " [ 2  7]\n",
      " [-1  0]]; sigma_1 = 29\n",
      "\n",
      "U2 = \n",
      "[[ 0  2]\n",
      " [-2  0]\n",
      " [ 0  0]]; sigma_2 = 4\n",
      "\n",
      "D = \n",
      "[[ 1.08383824  0.08118009 -0.16080132]\n",
      " [ 0.08115633  0.9900975  -0.09280504]\n",
      " [-0.16078445 -0.09283426  1.263739  ]]\n",
      "\n",
      "axis = [8.65012022 4.99451639 7.03144803] ; theta = 0.0\n",
      "\n"
     ]
    }
   ],
   "source": [
    "my_interface.parse_limit(du = 2, S  = 0.4, sgm1=10, sgm2=10, dd = 0.5)\n",
    "\n",
    "#Do searching!\n",
    "my_interface.search_one_position_2D(hkl_1, hkl_2, theta_range = 3, \\\n",
    "                                    dtheta = 0.01, pre_R=R, pre_dt= True, integer_tol = 1e-8)"
   ]
  },
  {
   "cell_type": "markdown",
   "metadata": {},
   "source": [
    "## Get bicrystal"
   ]
  },
  {
   "cell_type": "code",
   "execution_count": 14,
   "metadata": {},
   "outputs": [
    {
     "name": "stdout",
     "output_type": "stream",
     "text": [
      "cell 1:\n",
      "[[-8 -4  0]\n",
      " [-4 -2 11]\n",
      " [-1  1  0]]\n",
      "cell 2:\n",
      "[[ 0  0 -3]\n",
      " [ 0 -3  0]\n",
      " [-1  0  0]]\n"
     ]
    }
   ],
   "source": [
    "my_interface.compute_bicrystal_two_D(hkl_1 = hkl_1, hkl_2=hkl_2, normal_ortho = True, lim = 50, tol_ortho = 1e-3, tol_integer=1e-3)"
   ]
  },
  {
   "cell_type": "code",
   "execution_count": 16,
   "metadata": {},
   "outputs": [
    {
     "data": {
      "text/plain": [
       "array([[-8., -4., -0.],\n",
       "       [-4., -2., 11.],\n",
       "       [-1.,  1.,  0.]])"
      ]
     },
     "execution_count": 16,
     "metadata": {},
     "output_type": "execute_result"
    }
   ],
   "source": [
    "from numpy import *\n",
    "around(my_interface.bicrystal_U1)"
   ]
  },
  {
   "cell_type": "code",
   "execution_count": 17,
   "metadata": {},
   "outputs": [
    {
     "data": {
      "text/plain": [
       "array([[-0.,  0., -3.],\n",
       "       [ 0., -3.,  0.],\n",
       "       [-1.,  0., -0.]])"
      ]
     },
     "execution_count": 17,
     "metadata": {},
     "output_type": "execute_result"
    }
   ],
   "source": [
    "around(my_interface.bicrystal_U2)"
   ]
  },
  {
   "cell_type": "code",
   "execution_count": 18,
   "metadata": {},
   "outputs": [],
   "source": [
    "x1 = ceil(5/norm(dot(my_interface.lattice_1,my_interface.bicrystal_U1)[:,0]))\n",
    "#y1 = ceil(9/norm(dot(my_interface.lattice_1,my_interface.bicrystal_U1)[:,1]))\n",
    "#z1 = ceil(9/norm(dot(my_interface.lattice_1,my_interface.bicrystal_U1)[:,2]))"
   ]
  },
  {
   "cell_type": "code",
   "execution_count": 19,
   "metadata": {},
   "outputs": [],
   "source": [
    "x2 = ceil(5/norm(dot(my_interface.lattice_2,my_interface.bicrystal_U2)[:,0]))\n",
    "#y2 = ceil(9/norm(dot(my_interface.lattice_2,my_interface.bicrystal_U2)[:,1]))\n",
    "#z2 = ceil(9/norm(dot(my_interface.lattice_2,my_interface.bicrystal_U2)[:,2]))"
   ]
  },
  {
   "cell_type": "code",
   "execution_count": 20,
   "metadata": {},
   "outputs": [],
   "source": [
    "my_interface.get_bicrystal(two_D = True, xyz_1 = [x1,1,1], xyz_2 = [x2,1,1], dp1 = 0.1, dp2 = 0, dx = 0, vx=1)"
   ]
  },
  {
   "cell_type": "code",
   "execution_count": 17,
   "metadata": {},
   "outputs": [
    {
     "data": {
      "text/plain": [
       "2.849476333489562"
      ]
     },
     "execution_count": 17,
     "metadata": {},
     "output_type": "execute_result"
    }
   ],
   "source": [
    "norm(my_interface.CNID[:,0])"
   ]
  },
  {
   "cell_type": "code",
   "execution_count": 18,
   "metadata": {},
   "outputs": [
    {
     "data": {
      "text/plain": [
       "5.715762230300908"
      ]
     },
     "execution_count": 18,
     "metadata": {},
     "output_type": "execute_result"
    }
   ],
   "source": [
    "norm(my_interface.CNID[:,1])"
   ]
  },
  {
   "cell_type": "code",
   "execution_count": 20,
   "metadata": {},
   "outputs": [
    {
     "name": "stdout",
     "output_type": "stream",
     "text": [
      "CNID\n",
      "[[ 0.          1.33333333]\n",
      " [-1.          0.66666667]\n",
      " [ 0.         -0.33333333]]\n",
      "making 18 files...\n",
      "completed\n"
     ]
    }
   ],
   "source": [
    "#To sample the CNID, try\n",
    "my_interface.sample_CNID(grid = [3,6], xyz_1 = [x1,1,1], xyz_2 = [x2,1,1], dp1 = 0.1, dp2 = 0, dx = -0.5, vx=0.8)"
   ]
  },
  {
   "cell_type": "code",
   "execution_count": 133,
   "metadata": {},
   "outputs": [],
   "source": [
    "right_1 = array([24.7867897178, 0.9095271859, 13.7594486662])\n",
    "right_2 = array([37.0678811529, 2.3316922917, 15.2692225735])"
   ]
  },
  {
   "cell_type": "code",
   "execution_count": 134,
   "metadata": {},
   "outputs": [
    {
     "name": "stdout",
     "output_type": "stream",
     "text": [
      "1.6206097388 14.514335619850002\n"
     ]
    }
   ],
   "source": [
    "middle = ((right_1 + right_2)/2)[1:3]\n",
    "r_m_y, r_m_z = middle\n",
    "print(r_m_y, r_m_z)"
   ]
  },
  {
   "cell_type": "code",
   "execution_count": 135,
   "metadata": {},
   "outputs": [],
   "source": [
    "left_1 = array([22.2413190086999997, 1.4243551294000001, 12.8611351063000008])"
   ]
  },
  {
   "cell_type": "code",
   "execution_count": 136,
   "metadata": {},
   "outputs": [],
   "source": [
    "left_2 = array([12.1592408800000005, 2.8491354397999999, 11.4306350467000009])"
   ]
  },
  {
   "cell_type": "code",
   "execution_count": 137,
   "metadata": {},
   "outputs": [],
   "source": [
    "middle = ((left_1 + left_2)/2)[1:3]\n",
    "l_m_y, l_m_z = middle"
   ]
  },
  {
   "cell_type": "code",
   "execution_count": 138,
   "metadata": {},
   "outputs": [
    {
     "name": "stdout",
     "output_type": "stream",
     "text": [
      "2.1367452846 12.1458850765\n"
     ]
    }
   ],
   "source": [
    "print(l_m_y, l_m_z)"
   ]
  },
  {
   "cell_type": "code",
   "execution_count": 139,
   "metadata": {},
   "outputs": [],
   "source": [
    "dsp = array([0, l_m_y - r_m_y, l_m_z - r_m_z])"
   ]
  },
  {
   "cell_type": "code",
   "execution_count": 140,
   "metadata": {},
   "outputs": [
    {
     "data": {
      "text/plain": [
       "array([ 0.        ,  0.51613555, -2.36845054])"
      ]
     },
     "execution_count": 140,
     "metadata": {},
     "output_type": "execute_result"
    }
   ],
   "source": [
    "dsp"
   ]
  },
  {
   "cell_type": "code",
   "execution_count": 141,
   "metadata": {},
   "outputs": [],
   "source": [
    "with open('lmp.dat','r') as f:\n",
    "    lines = f.readlines()\n",
    "    xhi = float(lines[3].split()[1])\n",
    "    yhi = float(lines[4].split()[1])\n",
    "    zhi = float(lines[5].split()[1])\n",
    "    xy = float(lines[6].split()[0])\n",
    "    xz = float(lines[6].split()[1])\n",
    "    yz = float(lines[6].split()[2])"
   ]
  },
  {
   "cell_type": "code",
   "execution_count": 142,
   "metadata": {},
   "outputs": [],
   "source": [
    "atoms = loadtxt('lmp.dat', skiprows=10)"
   ]
  },
  {
   "cell_type": "code",
   "execution_count": 143,
   "metadata": {},
   "outputs": [],
   "source": [
    "ids = atoms[:,0]\n",
    "types = atoms[:,1]\n",
    "atoms = atoms[:,2:5]"
   ]
  },
  {
   "cell_type": "code",
   "execution_count": 144,
   "metadata": {},
   "outputs": [],
   "source": [
    "atoms[atoms[:,0] > 23] += dsp"
   ]
  },
  {
   "cell_type": "code",
   "execution_count": 145,
   "metadata": {},
   "outputs": [],
   "source": [
    "with open('lmp_dsp.dat','w') as f:\n",
    "    f.write('#Head \\n')\n",
    "    f.write('{} atoms \\n'.format(len(atoms)))\n",
    "    f.write('4 atom types \\n')\n",
    "    f.write(f'0 {xhi} xlo xhi \\n')\n",
    "    f.write(f'0 {yhi} ylo yhi \\n')\n",
    "    f.write(f'0 {zhi} zlo zhi \\n')\n",
    "    f.write(f'{xy} {xz} {yz} xy xz yz \\n\\n')\n",
    "    f.write('Atoms # atomic\\n\\n')\n",
    "    FinalMat = column_stack((ids, types, atoms))\n",
    "    savetxt(f, FinalMat, fmt='%i %i %.16f %.16f %.16f')\n",
    "            \n",
    "            "
   ]
  },
  {
   "cell_type": "code",
   "execution_count": 146,
   "metadata": {},
   "outputs": [],
   "source": [
    "left_b = 12.0525\n",
    "cell_min = 12"
   ]
  },
  {
   "cell_type": "code",
   "execution_count": 147,
   "metadata": {},
   "outputs": [],
   "source": [
    "left_max = 22.3482\n",
    "right_min = 24.3096\n",
    "right_max = 37.5451"
   ]
  },
  {
   "cell_type": "code",
   "execution_count": 148,
   "metadata": {},
   "outputs": [],
   "source": [
    "right_b = right_max + (right_min - left_max) - (left_b - cell_min)"
   ]
  },
  {
   "cell_type": "code",
   "execution_count": 149,
   "metadata": {},
   "outputs": [
    {
     "data": {
      "text/plain": [
       "39.454"
      ]
     },
     "execution_count": 149,
     "metadata": {},
     "output_type": "execute_result"
    }
   ],
   "source": [
    "right_b"
   ]
  },
  {
   "cell_type": "code",
   "execution_count": null,
   "metadata": {},
   "outputs": [],
   "source": []
  },
  {
   "cell_type": "code",
   "execution_count": null,
   "metadata": {},
   "outputs": [],
   "source": []
  }
 ],
 "metadata": {
  "kernelspec": {
   "display_name": "Python 3",
   "language": "python",
   "name": "python3"
  },
  "language_info": {
   "codemirror_mode": {
    "name": "ipython",
    "version": 3
   },
   "file_extension": ".py",
   "mimetype": "text/x-python",
   "name": "python",
   "nbconvert_exporter": "python",
   "pygments_lexer": "ipython3",
   "version": "3.8.3"
  }
 },
 "nbformat": 4,
 "nbformat_minor": 4
}
